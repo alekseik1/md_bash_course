{
 "cells": [
  {
   "cell_type": "code",
   "execution_count": 1,
   "metadata": {
    "pycharm": {
     "is_executing": false
    }
   },
   "outputs": [],
   "source": [
    "\n",
    "import pandas as pd\n",
    "import numpy as np\n",
    "import matplotlib.pyplot as plt"
   ]
  },
  {
   "cell_type": "code",
   "execution_count": 2,
   "metadata": {
    "pycharm": {
     "is_executing": false
    }
   },
   "outputs": [
    {
     "data": {
      "text/html": [
       "<div>\n",
       "<style scoped>\n",
       "    .dataframe tbody tr th:only-of-type {\n",
       "        vertical-align: middle;\n",
       "    }\n",
       "\n",
       "    .dataframe tbody tr th {\n",
       "        vertical-align: top;\n",
       "    }\n",
       "\n",
       "    .dataframe thead th {\n",
       "        text-align: right;\n",
       "    }\n",
       "</style>\n",
       "<table border=\"1\" class=\"dataframe\">\n",
       "  <thead>\n",
       "    <tr style=\"text-align: right;\">\n",
       "      <th></th>\n",
       "      <th>myproc</th>\n",
       "      <th>p</th>\n",
       "      <th>n</th>\n",
       "      <th>time</th>\n",
       "    </tr>\n",
       "  </thead>\n",
       "  <tbody>\n",
       "    <tr>\n",
       "      <th>0</th>\n",
       "      <td>7</td>\n",
       "      <td>10</td>\n",
       "      <td>1000000</td>\n",
       "      <td>0.883193</td>\n",
       "    </tr>\n",
       "    <tr>\n",
       "      <th>1</th>\n",
       "      <td>5</td>\n",
       "      <td>10</td>\n",
       "      <td>1000000</td>\n",
       "      <td>0.894240</td>\n",
       "    </tr>\n",
       "    <tr>\n",
       "      <th>2</th>\n",
       "      <td>6</td>\n",
       "      <td>10</td>\n",
       "      <td>1000000</td>\n",
       "      <td>0.913701</td>\n",
       "    </tr>\n",
       "    <tr>\n",
       "      <th>3</th>\n",
       "      <td>3</td>\n",
       "      <td>10</td>\n",
       "      <td>1000000</td>\n",
       "      <td>0.916496</td>\n",
       "    </tr>\n",
       "    <tr>\n",
       "      <th>4</th>\n",
       "      <td>2</td>\n",
       "      <td>10</td>\n",
       "      <td>1000000</td>\n",
       "      <td>0.894781</td>\n",
       "    </tr>\n",
       "  </tbody>\n",
       "</table>\n",
       "</div>"
      ],
      "text/plain": [
       "   myproc   p        n      time\n",
       "0       7  10  1000000  0.883193\n",
       "1       5  10  1000000  0.894240\n",
       "2       6  10  1000000  0.913701\n",
       "3       3  10  1000000  0.916496\n",
       "4       2  10  1000000  0.894781"
      ]
     },
     "execution_count": 2,
     "metadata": {},
     "output_type": "execute_result"
    }
   ],
   "source": [
    "df_all = pd.read_csv('results.csv', sep=';')\n",
    "df_all.head()"
   ]
  },
  {
   "cell_type": "markdown",
   "metadata": {},
   "source": [
    "## Ускорение и закон Амдаля"
   ]
  },
  {
   "cell_type": "code",
   "execution_count": 3,
   "metadata": {
    "pycharm": {
     "is_executing": false
    }
   },
   "outputs": [],
   "source": [
    "for myproc in df_all.myproc.unique():\n",
    "    for n in df_all.n.unique():\n",
    "        for p in df_all.p.unique():\n",
    "            df_all.loc[(df_all.p==p)&(df_all.n==n),'mean_time'] = df_all[(df_all.p==p)&(df_all.n==n)]['time'].mean()"
   ]
  },
  {
   "cell_type": "code",
   "execution_count": 59,
   "metadata": {},
   "outputs": [],
   "source": [
    "# TODO: should be always named as `df`\n",
    "df = df_all[df_all.myproc == 0]"
   ]
  },
  {
   "cell_type": "code",
   "execution_count": 5,
   "metadata": {
    "pycharm": {
     "is_executing": false
    },
    "scrolled": true
   },
   "outputs": [
    {
     "name": "stderr",
     "output_type": "stream",
     "text": [
      "/Users/a.kozharin/miniconda3/lib/python3.7/site-packages/pandas/core/indexing.py:376: SettingWithCopyWarning: \n",
      "A value is trying to be set on a copy of a slice from a DataFrame.\n",
      "Try using .loc[row_indexer,col_indexer] = value instead\n",
      "\n",
      "See the caveats in the documentation: http://pandas.pydata.org/pandas-docs/stable/user_guide/indexing.html#returning-a-view-versus-a-copy\n",
      "  self.obj[key] = _infer_fill_value(value)\n",
      "/Users/a.kozharin/miniconda3/lib/python3.7/site-packages/pandas/core/indexing.py:494: SettingWithCopyWarning: \n",
      "A value is trying to be set on a copy of a slice from a DataFrame.\n",
      "Try using .loc[row_indexer,col_indexer] = value instead\n",
      "\n",
      "See the caveats in the documentation: http://pandas.pydata.org/pandas-docs/stable/user_guide/indexing.html#returning-a-view-versus-a-copy\n",
      "  self.obj[item] = s\n"
     ]
    }
   ],
   "source": [
    "for n in df.n.unique():\n",
    "    for p in df.p.unique():\n",
    "        p_1_time = (df[(df.n==n)&(df.p==1)]['mean_time']).iloc[0]\n",
    "        own_time = df[(df.p==p)&(df.n==n)]['mean_time'].iloc[0]\n",
    "        df.loc[(df.p==p)&(df.n==n),'accel'] = p_1_time/own_time"
   ]
  },
  {
   "cell_type": "code",
   "execution_count": 6,
   "metadata": {
    "scrolled": true
   },
   "outputs": [
    {
     "name": "stderr",
     "output_type": "stream",
     "text": [
      "/Users/a.kozharin/miniconda3/lib/python3.7/site-packages/ipykernel_launcher.py:1: SettingWithCopyWarning: \n",
      "A value is trying to be set on a copy of a slice from a DataFrame.\n",
      "Try using .loc[row_indexer,col_indexer] = value instead\n",
      "\n",
      "See the caveats in the documentation: http://pandas.pydata.org/pandas-docs/stable/user_guide/indexing.html#returning-a-view-versus-a-copy\n",
      "  \"\"\"Entry point for launching an IPython kernel.\n"
     ]
    }
   ],
   "source": [
    "df['eff'] = df['accel']/df['p']"
   ]
  },
  {
   "cell_type": "code",
   "execution_count": 7,
   "metadata": {},
   "outputs": [],
   "source": [
    "def amdal(p, f):\n",
    "    return 1/(f + (1-f)/p)"
   ]
  },
  {
   "cell_type": "code",
   "execution_count": 53,
   "metadata": {},
   "outputs": [],
   "source": [
    "def plot_save_graphs(x_label, y_label, fixed='p'):\n",
    "    \n",
    "    def _appr_accel(n, p):\n",
    "        return 6*n/(6*n/p + 6 + np.log2(p))\n",
    "    \n",
    "    def _appr_eff(n, p):\n",
    "        return _appr_accel(n, p)/p\n",
    "    \n",
    "    def _appr_amdal(n, p, accels):\n",
    "        if len(np.array(p).reshape(-1)) == 1:\n",
    "            p = np.array([p]*len(accels))\n",
    "        elif len(np.array(accels).reshape(-1)) == 1:\n",
    "            accels = np.array([accels]*len(p))\n",
    "        from scipy.optimize import curve_fit\n",
    "        popt, pcov = curve_fit(amdal, p, accels)\n",
    "        return amdal(p, popt[0])\n",
    "    \n",
    "    def _routine(data, x_label, y_label, fixed_value):\n",
    "        x_data, y_data = data[x_label], data[y_label]\n",
    "        result = dict()\n",
    "        result['real'] = (x_data, y_data)\n",
    "        p, n = (fixed_value, x_data)\n",
    "        if x_label == 'p':\n",
    "            p, n = (n, p)\n",
    "        # Approximation\n",
    "        if y_label == 'accel':\n",
    "            # NOTE: approximation for acceleration\n",
    "            result['appr_accel'] = (x_data, _appr_accel(n, p))\n",
    "            if x_label == 'p':\n",
    "                result['appr_amdal'] = (x_data, _appr_amdal(n, p, y_data))\n",
    "                #plt.scatter(x_data, _appr_amdal(n, p, y_data), color='green', label='amdal')\n",
    "        elif y_label == 'eff':\n",
    "            #plt.scatter(x_data, _appr_eff(n, p), color='red', label='theor')\n",
    "            result['appr_eff'] = (x_data, _appr_eff(n, p))\n",
    "        #plt.xlabel(x_label)\n",
    "        #plt.ylabel(y_label)\n",
    "        #plt.legend()\n",
    "        #plt.title(f'{y_label}, {fixed}={fixed_value}')\n",
    "        #plt.savefig(f'{y_label}_{fixed}_{fixed_value}', dpi=120)\n",
    "        #plt.show()\n",
    "        return result\n",
    "    if fixed == 'n':\n",
    "        for n in df.n.unique():\n",
    "            data = df[df.n==n]\n",
    "            return _routine(data, x_label, y_label, n)\n",
    "    elif fixed == 'p':\n",
    "        for p in df.p.unique():\n",
    "            data = df[df.p==p]\n",
    "            return _routine(data, x_label, y_label, p)\n",
    "    else:\n",
    "        raise ValueError('Not implemented')"
   ]
  },
  {
   "cell_type": "code",
   "execution_count": 58,
   "metadata": {
    "scrolled": true
   },
   "outputs": [
    {
     "data": {
      "text/plain": [
       "(9       10\n",
       " 19      11\n",
       " 32      12\n",
       " 43      13\n",
       " 58      14\n",
       " 72      15\n",
       " 84      16\n",
       " 91       1\n",
       " 92       2\n",
       " 96       3\n",
       " 99       4\n",
       " 104      5\n",
       " 111      6\n",
       " 117      7\n",
       " 125      8\n",
       " 132      9\n",
       " 958     10\n",
       " 971     11\n",
       " 980     12\n",
       " 994     13\n",
       " 1009    14\n",
       " 1024    15\n",
       " 1038    16\n",
       " 1043     1\n",
       " 1045     2\n",
       " 1048     3\n",
       " 1052     4\n",
       " 1057     5\n",
       " 1062     6\n",
       " 1069     7\n",
       " 1077     8\n",
       " 1083     9\n",
       " 1911    10\n",
       " 1922    11\n",
       " 1936    12\n",
       " 1947    13\n",
       " 1961    14\n",
       " 1976    15\n",
       " 1991    16\n",
       " 1995     1\n",
       " 1997     2\n",
       " 1999     3\n",
       " 2003     4\n",
       " 2008     5\n",
       " 2015     6\n",
       " 2021     7\n",
       " 2029     8\n",
       " 2037     9\n",
       " Name: p, dtype: int64, 9       0.999984\n",
       " 19      0.999983\n",
       " 32      0.999981\n",
       " 43      0.999979\n",
       " 58      0.999977\n",
       " 72      0.999975\n",
       " 84      0.999973\n",
       " 91      0.999999\n",
       " 92      0.999998\n",
       " 96      0.999996\n",
       " 99      0.999995\n",
       " 104     0.999993\n",
       " 111     0.999991\n",
       " 117     0.999990\n",
       " 125     0.999988\n",
       " 132     0.999986\n",
       " 958     0.999984\n",
       " 971     0.999983\n",
       " 980     0.999981\n",
       " 994     0.999979\n",
       " 1009    0.999977\n",
       " 1024    0.999975\n",
       " 1038    0.999973\n",
       " 1043    0.999999\n",
       " 1045    0.999998\n",
       " 1048    0.999996\n",
       " 1052    0.999995\n",
       " 1057    0.999993\n",
       " 1062    0.999991\n",
       " 1069    0.999990\n",
       " 1077    0.999988\n",
       " 1083    0.999986\n",
       " 1911    0.999984\n",
       " 1922    0.999983\n",
       " 1936    0.999981\n",
       " 1947    0.999979\n",
       " 1961    0.999977\n",
       " 1976    0.999975\n",
       " 1991    0.999973\n",
       " 1995    0.999999\n",
       " 1997    0.999998\n",
       " 1999    0.999996\n",
       " 2003    0.999995\n",
       " 2008    0.999993\n",
       " 2015    0.999991\n",
       " 2021    0.999990\n",
       " 2029    0.999988\n",
       " 2037    0.999986\n",
       " Name: p, dtype: float64)"
      ]
     },
     "execution_count": 58,
     "metadata": {},
     "output_type": "execute_result"
    }
   ],
   "source": [
    "#plot_save_graphs('p', 'accel', fixed='n')['appr_eff'][0]\n",
    "#plot_save_graphs('n', 'accel', fixed='p')\n",
    "plot_save_graphs('p', 'eff', fixed='n')['appr_eff']\n",
    "#plot_save_graphs('n', 'eff', fixed='p')"
   ]
  },
  {
   "cell_type": "markdown",
   "metadata": {},
   "source": [
    "## Распределение времени работы каждого процесса"
   ]
  },
  {
   "cell_type": "code",
   "execution_count": 10,
   "metadata": {},
   "outputs": [],
   "source": [
    "for n in df_all.n.unique():\n",
    "    for p in df_all.p.unique():\n",
    "        for myproc in df_all.myproc.unique():\n",
    "            own_time = df_all.loc[(df_all.p == p)&(df_all.n == n)&(df_all.myproc == myproc),'time']\n",
    "            if len(own_time) == 0:\n",
    "                continue\n",
    "            own_time = own_time.iloc[0]\n",
    "            p0_time = df_all.loc[(df_all.p == p)&(df_all.n == n)&(df_all.myproc == 0),'time'].iloc[0]\n",
    "            df_all.loc[(df_all.p == p)&(df_all.n == n)&(df_all.myproc == myproc),'delay'] = p0_time - own_time"
   ]
  },
  {
   "cell_type": "code",
   "execution_count": 15,
   "metadata": {},
   "outputs": [
    {
     "data": {
      "image/png": "[encoded data removed]",
      "text/plain": [
       "<Figure size 432x288 with 1 Axes>"
      ]
     },
     "metadata": {
      "needs_background": "light"
     },
     "output_type": "display_data"
    }
   ],
   "source": [
    "for p in df_all.myproc.unique():\n",
    "    if p == 0:\n",
    "        continue\n",
    "    plt.xlabel('delay time, s')\n",
    "    plt.ylabel('total number')\n",
    "    plt.title(f'Histgram')\n",
    "    plt.hist(df_all[df_all.myproc == p]['delay'], alpha=0.6, label=f'p={p}')\n",
    "    plt.legend()\n",
    "plt.savefig('delay_histogram.png', dpi=120)"
   ]
  },
  {
   "cell_type": "markdown",
   "metadata": {},
   "source": [
    "Время задержки - примерно 0.1 секунда."
   ]
  },
  {
   "cell_type": "code",
   "execution_count": 12,
   "metadata": {},
   "outputs": [
    {
     "data": {
      "image/png": "[encoded data removed]",
      "text/plain": [
       "<Figure size 432x288 with 1 Axes>"
      ]
     },
     "metadata": {
      "needs_background": "light"
     },
     "output_type": "display_data"
    }
   ],
   "source": [
    "plt.xlabel('p')\n",
    "plt.ylabel('time, s')\n",
    "plt.scatter(df_all['p'].unique(), [df_all.loc[df_all.p == p,'time'].mean() for p in df_all.p.unique()])\n",
    "plt.title('Time distribution')\n",
    "plt.grid()"
   ]
  },
  {
   "cell_type": "markdown",
   "metadata": {},
   "source": [
    "## Сравнение для двух способов разбиения"
   ]
  },
  {
   "cell_type": "code",
   "execution_count": 13,
   "metadata": {},
   "outputs": [],
   "source": [
    "df_circle = pd.read_csv('results_circle.csv', sep=';')\n",
    "df_parts = pd.read_csv('results.csv', sep=';')"
   ]
  },
  {
   "cell_type": "code",
   "execution_count": 14,
   "metadata": {},
   "outputs": [
    {
     "data": {
      "text/html": [
       "<div>\n",
       "<style scoped>\n",
       "    .dataframe tbody tr th:only-of-type {\n",
       "        vertical-align: middle;\n",
       "    }\n",
       "\n",
       "    .dataframe tbody tr th {\n",
       "        vertical-align: top;\n",
       "    }\n",
       "\n",
       "    .dataframe thead th {\n",
       "        text-align: right;\n",
       "    }\n",
       "</style>\n",
       "<table border=\"1\" class=\"dataframe\">\n",
       "  <thead>\n",
       "    <tr style=\"text-align: right;\">\n",
       "      <th></th>\n",
       "      <th>myproc</th>\n",
       "      <th>p</th>\n",
       "      <th>n</th>\n",
       "      <th>time</th>\n",
       "    </tr>\n",
       "  </thead>\n",
       "  <tbody>\n",
       "    <tr>\n",
       "      <th>0</th>\n",
       "      <td>5</td>\n",
       "      <td>10</td>\n",
       "      <td>1000000</td>\n",
       "      <td>0.915967</td>\n",
       "    </tr>\n",
       "    <tr>\n",
       "      <th>1</th>\n",
       "      <td>3</td>\n",
       "      <td>10</td>\n",
       "      <td>1000000</td>\n",
       "      <td>0.922183</td>\n",
       "    </tr>\n",
       "    <tr>\n",
       "      <th>2</th>\n",
       "      <td>2</td>\n",
       "      <td>10</td>\n",
       "      <td>1000000</td>\n",
       "      <td>0.929037</td>\n",
       "    </tr>\n",
       "    <tr>\n",
       "      <th>3</th>\n",
       "      <td>7</td>\n",
       "      <td>10</td>\n",
       "      <td>1000000</td>\n",
       "      <td>0.970425</td>\n",
       "    </tr>\n",
       "    <tr>\n",
       "      <th>4</th>\n",
       "      <td>4</td>\n",
       "      <td>10</td>\n",
       "      <td>1000000</td>\n",
       "      <td>0.919532</td>\n",
       "    </tr>\n",
       "  </tbody>\n",
       "</table>\n",
       "</div>"
      ],
      "text/plain": [
       "   myproc   p        n      time\n",
       "0       5  10  1000000  0.915967\n",
       "1       3  10  1000000  0.922183\n",
       "2       2  10  1000000  0.929037\n",
       "3       7  10  1000000  0.970425\n",
       "4       4  10  1000000  0.919532"
      ]
     },
     "execution_count": 14,
     "metadata": {},
     "output_type": "execute_result"
    }
   ],
   "source": [
    "df_circle.head()"
   ]
  },
  {
   "cell_type": "code",
   "execution_count": 15,
   "metadata": {},
   "outputs": [],
   "source": [
    "df_delta = df_circle.copy()\n",
    "for myproc in df_circle.myproc.unique():\n",
    "    for p in df_circle.p.unique():\n",
    "        for n in df_circle.n.unique():\n",
    "            df_circle_time = df_circle.loc[(df_circle.n == n)&(df_circle.p == p)&(df_circle.myproc == myproc),'time'].mean()\n",
    "            df_parts_time = df_parts.loc[(df_parts.n == n)&(df_parts.p == p)&(df_parts.myproc == myproc),'time'].mean()\n",
    "            df_delta.loc[(df_delta.n == n)&(df_delta.p == p)&(df_delta.myproc == myproc),'delta'] = df_circle_time - df_parts_time"
   ]
  },
  {
   "cell_type": "code",
   "execution_count": 16,
   "metadata": {},
   "outputs": [
    {
     "name": "stdout",
     "output_type": "stream",
     "text": [
      "From circle to parts\n",
      "time increased: 1310 times\n",
      "time decreased: 594 times\n"
     ]
    }
   ],
   "source": [
    "print('From circle to parts')\n",
    "print('time increased: {} times'.format(np.count_nonzero(df_delta.delta >= 0)))\n",
    "print('time decreased: {} times'.format(np.count_nonzero(df_delta.delta < 0)))"
   ]
  },
  {
   "cell_type": "markdown",
   "metadata": {},
   "source": [
    "Видим, что время подсчета увеличилось."
   ]
  }
 ],
 "metadata": {
  "kernelspec": {
   "display_name": "Python 3",
   "language": "python",
   "name": "python3"
  },
  "language_info": {
   "codemirror_mode": {
    "name": "ipython",
    "version": 3
   },
   "file_extension": ".py",
   "mimetype": "text/x-python",
   "name": "python",
   "nbconvert_exporter": "python",
   "pygments_lexer": "ipython3",
   "version": "3.7.4"
  },
  "pycharm": {
   "stem_cell": {
    "cell_type": "raw",
    "source": [],
    "metadata": {
     "collapsed": false
    }
   }
  }
 },
 "nbformat": 4,
 "nbformat_minor": 2
}