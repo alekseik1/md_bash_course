{
 "cells": [
  {
   "cell_type": "markdown",
   "metadata": {},
   "source": [
    "# Задание 2\n",
    "\n",
    "\n",
    "При применении последовательного алгоритма перемножения матриц число шагов имеет порядок $O(n^3)$.\n",
    "\n",
    "Для параллельного алгоритма на каждой итерации каждый процессор выполняет умножение имеющихся на процессоре полос исходных матриц А и В (размерность каждой полосы составляет $n/p$, следовательно, общее количество выполняемых при этом умножении операций равно $n^3/p^2$). \n",
    "\n",
    "Поскольку число итераций алгоритма совпадает с количеством процессоров, сложность параллельного алгоритма без учета затрат на передачу данных может быть определена при помощи выражения:\n",
    "$$\n",
    "T_p = \\frac{n^3}{p^2}\\,p = \\frac{n^3}{p}\n",
    "$$\n",
    "\n",
    "Показатели ускорения и эффективности данного параллельного алгоритма:\n",
    "$$\n",
    "S = T_s/T_p = n^3 / ( n^3 / p) = p\n",
    "$$\n",
    "\n",
    "$$\n",
    "E = \\frac{n^3}{( n^3 / p) \\cdot p} = 1\n",
    "$$\n",
    "\n",
    "Это - идеальные показатели."
   ]
  },
  {
   "cell_type": "code",
   "execution_count": 35,
   "metadata": {
    "pycharm": {
     "is_executing": false
    }
   },
   "outputs": [],
   "source": [
    "import pandas as pd\n",
    "import numpy as np\n",
    "import matplotlib.pyplot as plt"
   ]
  },
  {
   "cell_type": "code",
   "execution_count": 36,
   "metadata": {
    "pycharm": {
     "is_executing": false
    }
   },
   "outputs": [
    {
     "data": {
      "text/html": [
       "<div>\n",
       "<style scoped>\n",
       "    .dataframe tbody tr th:only-of-type {\n",
       "        vertical-align: middle;\n",
       "    }\n",
       "\n",
       "    .dataframe tbody tr th {\n",
       "        vertical-align: top;\n",
       "    }\n",
       "\n",
       "    .dataframe thead th {\n",
       "        text-align: right;\n",
       "    }\n",
       "</style>\n",
       "<table border=\"1\" class=\"dataframe\">\n",
       "  <thead>\n",
       "    <tr style=\"text-align: right;\">\n",
       "      <th></th>\n",
       "      <th>n</th>\n",
       "      <th>p</th>\n",
       "      <th>time</th>\n",
       "    </tr>\n",
       "  </thead>\n",
       "  <tbody>\n",
       "    <tr>\n",
       "      <th>0</th>\n",
       "      <td>30</td>\n",
       "      <td>2</td>\n",
       "      <td>0.025409</td>\n",
       "    </tr>\n",
       "    <tr>\n",
       "      <th>1</th>\n",
       "      <td>60</td>\n",
       "      <td>2</td>\n",
       "      <td>0.171784</td>\n",
       "    </tr>\n",
       "    <tr>\n",
       "      <th>2</th>\n",
       "      <td>80</td>\n",
       "      <td>2</td>\n",
       "      <td>0.418165</td>\n",
       "    </tr>\n",
       "    <tr>\n",
       "      <th>3</th>\n",
       "      <td>30</td>\n",
       "      <td>3</td>\n",
       "      <td>0.012445</td>\n",
       "    </tr>\n",
       "    <tr>\n",
       "      <th>4</th>\n",
       "      <td>60</td>\n",
       "      <td>3</td>\n",
       "      <td>0.094091</td>\n",
       "    </tr>\n",
       "  </tbody>\n",
       "</table>\n",
       "</div>"
      ],
      "text/plain": [
       "    n  p      time\n",
       "0  30  2  0.025409\n",
       "1  60  2  0.171784\n",
       "2  80  2  0.418165\n",
       "3  30  3  0.012445\n",
       "4  60  3  0.094091"
      ]
     },
     "execution_count": 36,
     "metadata": {},
     "output_type": "execute_result"
    }
   ],
   "source": [
    "df_all = pd.read_csv('results.csv', sep=';')\n",
    "df_all.head()"
   ]
  },
  {
   "cell_type": "code",
   "execution_count": 37,
   "metadata": {},
   "outputs": [],
   "source": [
    "df_all.p -= 1"
   ]
  },
  {
   "cell_type": "code",
   "execution_count": 38,
   "metadata": {},
   "outputs": [],
   "source": [
    "#df_all.p = df_all.p.max() - df_all.p"
   ]
  },
  {
   "cell_type": "markdown",
   "metadata": {},
   "source": [
    "## Ускорение и закон Амдаля"
   ]
  },
  {
   "cell_type": "code",
   "execution_count": 39,
   "metadata": {
    "pycharm": {
     "is_executing": false
    }
   },
   "outputs": [],
   "source": [
    "for n in df_all.n.unique():\n",
    "    for p in df_all.p.unique():\n",
    "        df_all.loc[(df_all.p==p)&(df_all.n==n),'mean_time'] = df_all[(df_all.p==p)&(df_all.n==n)]['time'].mean()"
   ]
  },
  {
   "cell_type": "code",
   "execution_count": 40,
   "metadata": {},
   "outputs": [
    {
     "data": {
      "text/html": [
       "<div>\n",
       "<style scoped>\n",
       "    .dataframe tbody tr th:only-of-type {\n",
       "        vertical-align: middle;\n",
       "    }\n",
       "\n",
       "    .dataframe tbody tr th {\n",
       "        vertical-align: top;\n",
       "    }\n",
       "\n",
       "    .dataframe thead th {\n",
       "        text-align: right;\n",
       "    }\n",
       "</style>\n",
       "<table border=\"1\" class=\"dataframe\">\n",
       "  <thead>\n",
       "    <tr style=\"text-align: right;\">\n",
       "      <th></th>\n",
       "      <th>n</th>\n",
       "      <th>p</th>\n",
       "      <th>time</th>\n",
       "      <th>mean_time</th>\n",
       "    </tr>\n",
       "  </thead>\n",
       "  <tbody>\n",
       "    <tr>\n",
       "      <th>0</th>\n",
       "      <td>30</td>\n",
       "      <td>1</td>\n",
       "      <td>0.025409</td>\n",
       "      <td>0.024387</td>\n",
       "    </tr>\n",
       "    <tr>\n",
       "      <th>1</th>\n",
       "      <td>60</td>\n",
       "      <td>1</td>\n",
       "      <td>0.171784</td>\n",
       "      <td>0.175043</td>\n",
       "    </tr>\n",
       "    <tr>\n",
       "      <th>2</th>\n",
       "      <td>80</td>\n",
       "      <td>1</td>\n",
       "      <td>0.418165</td>\n",
       "      <td>0.404159</td>\n",
       "    </tr>\n",
       "    <tr>\n",
       "      <th>3</th>\n",
       "      <td>30</td>\n",
       "      <td>2</td>\n",
       "      <td>0.012445</td>\n",
       "      <td>0.013009</td>\n",
       "    </tr>\n",
       "    <tr>\n",
       "      <th>4</th>\n",
       "      <td>60</td>\n",
       "      <td>2</td>\n",
       "      <td>0.094091</td>\n",
       "      <td>0.098190</td>\n",
       "    </tr>\n",
       "    <tr>\n",
       "      <th>...</th>\n",
       "      <td>...</td>\n",
       "      <td>...</td>\n",
       "      <td>...</td>\n",
       "      <td>...</td>\n",
       "    </tr>\n",
       "    <tr>\n",
       "      <th>415</th>\n",
       "      <td>60</td>\n",
       "      <td>13</td>\n",
       "      <td>0.038694</td>\n",
       "      <td>0.038977</td>\n",
       "    </tr>\n",
       "    <tr>\n",
       "      <th>416</th>\n",
       "      <td>80</td>\n",
       "      <td>13</td>\n",
       "      <td>0.085782</td>\n",
       "      <td>0.086086</td>\n",
       "    </tr>\n",
       "    <tr>\n",
       "      <th>417</th>\n",
       "      <td>30</td>\n",
       "      <td>14</td>\n",
       "      <td>0.007220</td>\n",
       "      <td>0.007136</td>\n",
       "    </tr>\n",
       "    <tr>\n",
       "      <th>418</th>\n",
       "      <td>60</td>\n",
       "      <td>14</td>\n",
       "      <td>0.033449</td>\n",
       "      <td>0.033587</td>\n",
       "    </tr>\n",
       "    <tr>\n",
       "      <th>419</th>\n",
       "      <td>80</td>\n",
       "      <td>14</td>\n",
       "      <td>0.070626</td>\n",
       "      <td>0.070821</td>\n",
       "    </tr>\n",
       "  </tbody>\n",
       "</table>\n",
       "<p>420 rows × 4 columns</p>\n",
       "</div>"
      ],
      "text/plain": [
       "      n   p      time  mean_time\n",
       "0    30   1  0.025409   0.024387\n",
       "1    60   1  0.171784   0.175043\n",
       "2    80   1  0.418165   0.404159\n",
       "3    30   2  0.012445   0.013009\n",
       "4    60   2  0.094091   0.098190\n",
       "..   ..  ..       ...        ...\n",
       "415  60  13  0.038694   0.038977\n",
       "416  80  13  0.085782   0.086086\n",
       "417  30  14  0.007220   0.007136\n",
       "418  60  14  0.033449   0.033587\n",
       "419  80  14  0.070626   0.070821\n",
       "\n",
       "[420 rows x 4 columns]"
      ]
     },
     "execution_count": 40,
     "metadata": {},
     "output_type": "execute_result"
    }
   ],
   "source": [
    "df = df_all\n",
    "df"
   ]
  },
  {
   "cell_type": "code",
   "execution_count": 41,
   "metadata": {
    "pycharm": {
     "is_executing": false
    },
    "scrolled": true
   },
   "outputs": [],
   "source": [
    "for n in df.n.unique():\n",
    "    for p in df.p.unique():\n",
    "        p_1_time = (df[(df.n==n)&(df.p==1)]['mean_time']).iloc[0]\n",
    "        own_time = df[(df.p==p)&(df.n==n)]['mean_time'].iloc[0]\n",
    "        df.loc[(df.p==p)&(df.n==n),'accel'] = p_1_time/own_time"
   ]
  },
  {
   "cell_type": "code",
   "execution_count": 42,
   "metadata": {
    "scrolled": true
   },
   "outputs": [],
   "source": [
    "df['eff'] = df['accel']/df['p']"
   ]
  },
  {
   "cell_type": "code",
   "execution_count": 43,
   "metadata": {},
   "outputs": [
    {
     "data": {
      "text/html": [
       "<div>\n",
       "<style scoped>\n",
       "    .dataframe tbody tr th:only-of-type {\n",
       "        vertical-align: middle;\n",
       "    }\n",
       "\n",
       "    .dataframe tbody tr th {\n",
       "        vertical-align: top;\n",
       "    }\n",
       "\n",
       "    .dataframe thead th {\n",
       "        text-align: right;\n",
       "    }\n",
       "</style>\n",
       "<table border=\"1\" class=\"dataframe\">\n",
       "  <thead>\n",
       "    <tr style=\"text-align: right;\">\n",
       "      <th></th>\n",
       "      <th>n</th>\n",
       "      <th>p</th>\n",
       "      <th>time</th>\n",
       "      <th>mean_time</th>\n",
       "      <th>accel</th>\n",
       "      <th>eff</th>\n",
       "    </tr>\n",
       "  </thead>\n",
       "  <tbody>\n",
       "    <tr>\n",
       "      <th>0</th>\n",
       "      <td>30</td>\n",
       "      <td>1</td>\n",
       "      <td>0.025409</td>\n",
       "      <td>0.024387</td>\n",
       "      <td>1.000000</td>\n",
       "      <td>1.000000</td>\n",
       "    </tr>\n",
       "    <tr>\n",
       "      <th>3</th>\n",
       "      <td>30</td>\n",
       "      <td>2</td>\n",
       "      <td>0.012445</td>\n",
       "      <td>0.013009</td>\n",
       "      <td>1.874647</td>\n",
       "      <td>0.937323</td>\n",
       "    </tr>\n",
       "    <tr>\n",
       "      <th>6</th>\n",
       "      <td>30</td>\n",
       "      <td>3</td>\n",
       "      <td>0.010748</td>\n",
       "      <td>0.009953</td>\n",
       "      <td>2.450219</td>\n",
       "      <td>0.816740</td>\n",
       "    </tr>\n",
       "    <tr>\n",
       "      <th>9</th>\n",
       "      <td>30</td>\n",
       "      <td>4</td>\n",
       "      <td>0.007880</td>\n",
       "      <td>0.007603</td>\n",
       "      <td>3.207518</td>\n",
       "      <td>0.801879</td>\n",
       "    </tr>\n",
       "    <tr>\n",
       "      <th>12</th>\n",
       "      <td>30</td>\n",
       "      <td>5</td>\n",
       "      <td>0.006494</td>\n",
       "      <td>0.006612</td>\n",
       "      <td>3.688454</td>\n",
       "      <td>0.737691</td>\n",
       "    </tr>\n",
       "    <tr>\n",
       "      <th>...</th>\n",
       "      <td>...</td>\n",
       "      <td>...</td>\n",
       "      <td>...</td>\n",
       "      <td>...</td>\n",
       "      <td>...</td>\n",
       "      <td>...</td>\n",
       "    </tr>\n",
       "    <tr>\n",
       "      <th>405</th>\n",
       "      <td>30</td>\n",
       "      <td>10</td>\n",
       "      <td>0.007881</td>\n",
       "      <td>0.007614</td>\n",
       "      <td>3.202757</td>\n",
       "      <td>0.320276</td>\n",
       "    </tr>\n",
       "    <tr>\n",
       "      <th>408</th>\n",
       "      <td>30</td>\n",
       "      <td>11</td>\n",
       "      <td>0.005841</td>\n",
       "      <td>0.005738</td>\n",
       "      <td>4.250416</td>\n",
       "      <td>0.386401</td>\n",
       "    </tr>\n",
       "    <tr>\n",
       "      <th>411</th>\n",
       "      <td>30</td>\n",
       "      <td>12</td>\n",
       "      <td>0.006014</td>\n",
       "      <td>0.005710</td>\n",
       "      <td>4.270646</td>\n",
       "      <td>0.355887</td>\n",
       "    </tr>\n",
       "    <tr>\n",
       "      <th>414</th>\n",
       "      <td>30</td>\n",
       "      <td>13</td>\n",
       "      <td>0.006971</td>\n",
       "      <td>0.006905</td>\n",
       "      <td>3.531794</td>\n",
       "      <td>0.271676</td>\n",
       "    </tr>\n",
       "    <tr>\n",
       "      <th>417</th>\n",
       "      <td>30</td>\n",
       "      <td>14</td>\n",
       "      <td>0.007220</td>\n",
       "      <td>0.007136</td>\n",
       "      <td>3.417647</td>\n",
       "      <td>0.244118</td>\n",
       "    </tr>\n",
       "  </tbody>\n",
       "</table>\n",
       "<p>140 rows × 6 columns</p>\n",
       "</div>"
      ],
      "text/plain": [
       "      n   p      time  mean_time     accel       eff\n",
       "0    30   1  0.025409   0.024387  1.000000  1.000000\n",
       "3    30   2  0.012445   0.013009  1.874647  0.937323\n",
       "6    30   3  0.010748   0.009953  2.450219  0.816740\n",
       "9    30   4  0.007880   0.007603  3.207518  0.801879\n",
       "12   30   5  0.006494   0.006612  3.688454  0.737691\n",
       "..   ..  ..       ...        ...       ...       ...\n",
       "405  30  10  0.007881   0.007614  3.202757  0.320276\n",
       "408  30  11  0.005841   0.005738  4.250416  0.386401\n",
       "411  30  12  0.006014   0.005710  4.270646  0.355887\n",
       "414  30  13  0.006971   0.006905  3.531794  0.271676\n",
       "417  30  14  0.007220   0.007136  3.417647  0.244118\n",
       "\n",
       "[140 rows x 6 columns]"
      ]
     },
     "execution_count": 43,
     "metadata": {},
     "output_type": "execute_result"
    }
   ],
   "source": [
    "df[df.n == 30]"
   ]
  },
  {
   "cell_type": "markdown",
   "metadata": {},
   "source": [
    "## Аппроксимации ускорений"
   ]
  },
  {
   "cell_type": "code",
   "execution_count": 44,
   "metadata": {},
   "outputs": [],
   "source": [
    "def amdal(p, f):\n",
    "    return 1/(f + (1-f)/p)\n",
    "def gustav(n, s):\n",
    "    return n + (1-n)*s"
   ]
  },
  {
   "cell_type": "code",
   "execution_count": 45,
   "metadata": {},
   "outputs": [],
   "source": [
    "def plot_save_graphs(x_label, y_label, fixed='p'):\n",
    "    \n",
    "    def _appr_accel(n, p):\n",
    "        # TODO: place here theoretical approximation\n",
    "        #return 6*n/(6*n/p + 6 + np.log2(p))\n",
    "        return n/n*p\n",
    "    \n",
    "    def _appr_eff(n, p):\n",
    "        return _appr_accel(n, p)/p\n",
    "    \n",
    "    def _appr_gustav(n, p, accels):\n",
    "        '''\n",
    "        if len(np.array(o).reshape(-1)) == 1:\n",
    "            n = np.array([n]*len(accels))\n",
    "        elif len(np.array(accels).reshape(-1)) == 1:\n",
    "            accels = np.array([accels]*len(n))\n",
    "        '''\n",
    "        from scipy.optimize import curve_fit\n",
    "        popt, pcov = curve_fit(gustav, n, accels)\n",
    "        return gustav(n, popt[0]).iloc[-1]*n/n\n",
    "    \n",
    "    def _appr_amdal(n, p, accels):\n",
    "        if len(np.array(p).reshape(-1)) == 1:\n",
    "            p = np.array([p]*len(accels))\n",
    "        elif len(np.array(accels).reshape(-1)) == 1:\n",
    "            accels = np.array([accels]*len(p))\n",
    "        from scipy.optimize import curve_fit\n",
    "        popt, pcov = curve_fit(amdal, p, accels)\n",
    "        return amdal(p, popt[0])\n",
    "    \n",
    "    def _routine(data, x_label, y_label, fixed_value):\n",
    "        x_data, y_data = data[x_label], data[y_label]\n",
    "        plt.scatter(x_data, y_data, label='real')\n",
    "        p, n = (fixed_value, x_data)\n",
    "        if x_label == 'p':\n",
    "            p, n = (n, p)\n",
    "        # Approximation\n",
    "        if y_label == 'accel':\n",
    "            plt.scatter(x_data, _appr_accel(n, p), color='red', label='theor')\n",
    "            if x_label == 'p':\n",
    "                plt.scatter(x_data, _appr_amdal(n, p, y_data), color='green', label='amdal')\n",
    "            else:\n",
    "                plt.scatter(x_data, _appr_gustav(n, p, y_data), color='grey', label='gustav')\n",
    "        elif y_label == 'eff':\n",
    "            plt.scatter(x_data, _appr_eff(n, p), color='red', label='theor')\n",
    "        plt.xlabel(x_label)\n",
    "        plt.ylabel(y_label)\n",
    "        plt.legend()\n",
    "        plt.title(f'{y_label}, {fixed}={fixed_value}')\n",
    "        plt.savefig(f'{y_label}_{fixed}_{fixed_value}', dpi=120)\n",
    "        plt.show()\n",
    "    if fixed == 'n':\n",
    "        for n in df.n.unique():\n",
    "            data = df[df.n==n]\n",
    "            _routine(data, x_label, y_label, n)\n",
    "    elif fixed == 'p':\n",
    "        for p in df.p.unique():\n",
    "            data = df[df.p==p]\n",
    "            _routine(data, x_label, y_label, p)\n",
    "    else:\n",
    "        raise ValueError('Not implemented')"
   ]
  },
  {
   "cell_type": "code",
   "execution_count": 47,
   "metadata": {
    "pycharm": {
     "name": "#%%\n"
    },
    "scrolled": false
   },
   "outputs": [
    {
     "data": {
      "image/png": "[encoded data removed]",
      "text/plain": [
       "<Figure size 432x288 with 1 Axes>"
      ]
     },
     "metadata": {
      "needs_background": "light"
     },
     "output_type": "display_data"
    },
    {
     "data": {
      "image/png": "[encoded data removed]",
      "text/plain": [
       "<Figure size 432x288 with 1 Axes>"
      ]
     },
     "metadata": {
      "needs_background": "light"
     },
     "output_type": "display_data"
    },
    {
     "data": {
      "image/png": "[encoded data removed]",
      "text/plain": [
       "<Figure size 432x288 with 1 Axes>"
      ]
     },
     "metadata": {
      "needs_background": "light"
     },
     "output_type": "display_data"
    },
    {
     "data": {
      "image/png": "[encoded data removed]",
      "text/plain": [
       "<Figure size 432x288 with 1 Axes>"
      ]
     },
     "metadata": {
      "needs_background": "light"
     },
     "output_type": "display_data"
    },
    {
     "data": {
      "image/png": "[encoded data removed]",
      "text/plain": [
       "<Figure size 432x288 with 1 Axes>"
      ]
     },
     "metadata": {
      "needs_background": "light"
     },
     "output_type": "display_data"
    },
    {
     "data": {
      "image/png": "[encoded data removed]",
      "text/plain": [
       "<Figure size 432x288 with 1 Axes>"
      ]
     },
     "metadata": {
      "needs_background": "light"
     },
     "output_type": "display_data"
    },
    {
     "data": {
      "image/png": "[encoded data removed]",
      "text/plain": [
       "<Figure size 432x288 with 1 Axes>"
      ]
     },
     "metadata": {
      "needs_background": "light"
     },
     "output_type": "display_data"
    },
    {
     "data": {
      "image/png": "[encoded data removed]",
      "text/plain": [
       "<Figure size 432x288 with 1 Axes>"
      ]
     },
     "metadata": {
      "needs_background": "light"
     },
     "output_type": "display_data"
    },
    {
     "data": {
      "image/png": "[encoded data removed]",
      "text/plain": [
       "<Figure size 432x288 with 1 Axes>"
      ]
     },
     "metadata": {
      "needs_background": "light"
     },
     "output_type": "display_data"
    },
    {
     "data": {
      "image/png": "[encoded data removed]",
      "text/plain": [
       "<Figure size 432x288 with 1 Axes>"
      ]
     },
     "metadata": {
      "needs_background": "light"
     },
     "output_type": "display_data"
    },
    {
     "data": {
      "image/png": "[encoded data removed]",
      "text/plain": [
       "<Figure size 432x288 with 1 Axes>"
      ]
     },
     "metadata": {
      "needs_background": "light"
     },
     "output_type": "display_data"
    },
    {
     "data": {
      "image/png": "[encoded data removed]",
      "text/plain": [
       "<Figure size 432x288 with 1 Axes>"
      ]
     },
     "metadata": {
      "needs_background": "light"
     },
     "output_type": "display_data"
    },
    {
     "data": {
      "image/png": "[encoded data removed]",
      "text/plain": [
       "<Figure size 432x288 with 1 Axes>"
      ]
     },
     "metadata": {
      "needs_background": "light"
     },
     "output_type": "display_data"
    },
    {
     "data": {
      "image/png": "[encoded data removed]",
      "text/plain": [
       "<Figure size 432x288 with 1 Axes>"
      ]
     },
     "metadata": {
      "needs_background": "light"
     },
     "output_type": "display_data"
    },
    {
     "data": {
      "image/png": "[encoded data removed]",
      "text/plain": [
       "<Figure size 432x288 with 1 Axes>"
      ]
     },
     "metadata": {
      "needs_background": "light"
     },
     "output_type": "display_data"
    },
    {
     "data": {
      "image/png": "[encoded data removed]",
      "text/plain": [
       "<Figure size 432x288 with 1 Axes>"
      ]
     },
     "metadata": {
      "needs_background": "light"
     },
     "output_type": "display_data"
    },
    {
     "data": {
      "image/png": "[encoded data removed]",
      "text/plain": [
       "<Figure size 432x288 with 1 Axes>"
      ]
     },
     "metadata": {
      "needs_background": "light"
     },
     "output_type": "display_data"
    }
   ],
   "source": [
    "plot_save_graphs('p', 'accel', fixed='n')\n",
    "plot_save_graphs('n', 'accel', fixed='p')\n",
    "#plot_save_graphs('p', 'eff', fixed='n')\n",
    "#plot_save_graphs('n', 'eff', fixed='p')"
   ]
  },
  {
   "cell_type": "code",
   "execution_count": null,
   "metadata": {},
   "outputs": [],
   "source": []
  },
  {
   "cell_type": "code",
   "execution_count": null,
   "metadata": {},
   "outputs": [],
   "source": []
  },
  {
   "cell_type": "code",
   "execution_count": null,
   "metadata": {},
   "outputs": [],
   "source": []
  },
  {
   "cell_type": "code",
   "execution_count": null,
   "metadata": {},
   "outputs": [],
   "source": []
  },
  {
   "cell_type": "code",
   "execution_count": null,
   "metadata": {},
   "outputs": [],
   "source": []
  },
  {
   "cell_type": "code",
   "execution_count": null,
   "metadata": {},
   "outputs": [],
   "source": []
  },
  {
   "cell_type": "code",
   "execution_count": null,
   "metadata": {},
   "outputs": [],
   "source": []
  },
  {
   "cell_type": "code",
   "execution_count": null,
   "metadata": {},
   "outputs": [],
   "source": []
  },
  {
   "cell_type": "code",
   "execution_count": null,
   "metadata": {},
   "outputs": [],
   "source": []
  },
  {
   "cell_type": "code",
   "execution_count": null,
   "metadata": {},
   "outputs": [],
   "source": []
  },
  {
   "cell_type": "code",
   "execution_count": null,
   "metadata": {},
   "outputs": [],
   "source": []
  },
  {
   "cell_type": "code",
   "execution_count": null,
   "metadata": {},
   "outputs": [],
   "source": []
  },
  {
   "cell_type": "code",
   "execution_count": null,
   "metadata": {},
   "outputs": [],
   "source": []
  },
  {
   "cell_type": "code",
   "execution_count": null,
   "metadata": {},
   "outputs": [],
   "source": []
  },
  {
   "cell_type": "code",
   "execution_count": null,
   "metadata": {},
   "outputs": [],
   "source": []
  },
  {
   "cell_type": "code",
   "execution_count": null,
   "metadata": {},
   "outputs": [],
   "source": []
  },
  {
   "cell_type": "code",
   "execution_count": null,
   "metadata": {},
   "outputs": [],
   "source": []
  },
  {
   "cell_type": "code",
   "execution_count": null,
   "metadata": {},
   "outputs": [],
   "source": []
  },
  {
   "cell_type": "code",
   "execution_count": null,
   "metadata": {},
   "outputs": [],
   "source": []
  },
  {
   "cell_type": "code",
   "execution_count": null,
   "metadata": {},
   "outputs": [],
   "source": []
  },
  {
   "cell_type": "markdown",
   "metadata": {},
   "source": [
    "БОНУС: неидеальные оценки\n",
    "    \n",
    "Время вычисления (оценка):\n",
    "$$\n",
    "T_p (calc) =  \\frac{n^2}{p} (2 n - 1) t,\n",
    "$$\n",
    "где t - время выполнения одной элементарной скалярной операции.\n",
    "\n",
    "Будем предполагать, что все операции передачи данных между процессорами в ходе одной итерации алгоритма могут быть выполнены параллельно. Объем передаваемых данных между процессорами определяется размером полос и составляет $n/p$ строк или столбцов длины $n$. Общее количество параллельных операций передачи сообщений на 1 меньше числа итераций алгоритма (на последней итерации передача данных не является обязательной). Тогда:\n",
    "\n",
    "$$\n",
    "T_p (comm) = (p - 1) (a + w n ( n / p ) / b ),\n",
    "$$ где $a$ - постоянная задержка (латентность), $b$ - пропускная способность сети передачи данных, а $w$ - размер элемента матрицы в байтах. Тогда\n",
    "\n",
    "$$\n",
    "    T_p = \\frac{n^2}{p} \\left(2n - 1\\right) t + (p - 1) \\left(a + w n \\frac{n}{pb}\\right)\n",
    "$$\n",
    "\n",
    "Здесь параметрами выступают $a$, $b$, $t$. В случае типа `np.float` $w = 8$"
   ]
  }
 ],
 "metadata": {
  "kernelspec": {
   "display_name": "Python 3",
   "language": "python",
   "name": "python3"
  },
  "language_info": {
   "codemirror_mode": {
    "name": "ipython",
    "version": 3
   },
   "file_extension": ".py",
   "mimetype": "text/x-python",
   "name": "python",
   "nbconvert_exporter": "python",
   "pygments_lexer": "ipython3",
   "version": "3.7.4"
  },
  "pycharm": {
   "stem_cell": {
    "cell_type": "raw",
    "metadata": {
     "collapsed": false
    },
    "source": []
   }
  }
 },
 "nbformat": 4,
 "nbformat_minor": 2
}
