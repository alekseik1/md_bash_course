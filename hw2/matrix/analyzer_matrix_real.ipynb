{
 "cells": [
  {
   "cell_type": "markdown",
   "metadata": {},
   "source": [
    "# Задание 2\n",
    "\n",
    "\n",
    "При применении последовательного алгоритма перемножения матриц число шагов имеет порядок $O(n^3)$.\n",
    "\n",
    "Для параллельного алгоритма на каждой итерации каждый процессор выполняет умножение имеющихся на процессоре полос исходных матриц А и В (размерность каждой полосы составляет $n/p$, следовательно, общее количество выполняемых при этом умножении операций равно $n^3/p^2$). \n",
    "\n",
    "Поскольку число итераций алгоритма совпадает с количеством процессоров, сложность параллельного алгоритма без учета затрат на передачу данных может быть определена при помощи выражения:\n",
    "$$\n",
    "T_p = \\frac{n^3}{p^2}\\,p = \\frac{n^3}{p}\n",
    "$$\n",
    "\n",
    "Показатели ускорения и эффективности данного параллельного алгоритма:\n",
    "$$\n",
    "S = T_s/T_p = n^3 / ( n^3 / p) = p\n",
    "$$\n",
    "\n",
    "$$\n",
    "E = \\frac{n^3}{( n^3 / p) \\cdot p} = 1\n",
    "$$\n",
    "\n",
    "Это - идеальные показатели."
   ]
  },
  {
   "cell_type": "code",
   "execution_count": 1,
   "metadata": {
    "pycharm": {
     "is_executing": false
    }
   },
   "outputs": [],
   "source": [
    "import pandas as pd\n",
    "import numpy as np\n",
    "import matplotlib.pyplot as plt"
   ]
  },
  {
   "cell_type": "code",
   "execution_count": 2,
   "metadata": {
    "pycharm": {
     "is_executing": false
    }
   },
   "outputs": [
    {
     "data": {
      "text/html": [
       "<div>\n",
       "<style scoped>\n",
       "    .dataframe tbody tr th:only-of-type {\n",
       "        vertical-align: middle;\n",
       "    }\n",
       "\n",
       "    .dataframe tbody tr th {\n",
       "        vertical-align: top;\n",
       "    }\n",
       "\n",
       "    .dataframe thead th {\n",
       "        text-align: right;\n",
       "    }\n",
       "</style>\n",
       "<table border=\"1\" class=\"dataframe\">\n",
       "  <thead>\n",
       "    <tr style=\"text-align: right;\">\n",
       "      <th></th>\n",
       "      <th>n</th>\n",
       "      <th>p</th>\n",
       "      <th>time</th>\n",
       "    </tr>\n",
       "  </thead>\n",
       "  <tbody>\n",
       "    <tr>\n",
       "      <th>0</th>\n",
       "      <td>10</td>\n",
       "      <td>2</td>\n",
       "      <td>0.002002</td>\n",
       "    </tr>\n",
       "    <tr>\n",
       "      <th>1</th>\n",
       "      <td>20</td>\n",
       "      <td>2</td>\n",
       "      <td>0.008601</td>\n",
       "    </tr>\n",
       "    <tr>\n",
       "      <th>2</th>\n",
       "      <td>30</td>\n",
       "      <td>2</td>\n",
       "      <td>0.023870</td>\n",
       "    </tr>\n",
       "    <tr>\n",
       "      <th>3</th>\n",
       "      <td>40</td>\n",
       "      <td>2</td>\n",
       "      <td>0.062628</td>\n",
       "    </tr>\n",
       "    <tr>\n",
       "      <th>4</th>\n",
       "      <td>50</td>\n",
       "      <td>2</td>\n",
       "      <td>0.097454</td>\n",
       "    </tr>\n",
       "  </tbody>\n",
       "</table>\n",
       "</div>"
      ],
      "text/plain": [
       "    n  p      time\n",
       "0  10  2  0.002002\n",
       "1  20  2  0.008601\n",
       "2  30  2  0.023870\n",
       "3  40  2  0.062628\n",
       "4  50  2  0.097454"
      ]
     },
     "execution_count": 2,
     "metadata": {},
     "output_type": "execute_result"
    }
   ],
   "source": [
    "df_all = pd.read_csv('results.csv', sep=';')\n",
    "df_all.head()"
   ]
  },
  {
   "cell_type": "code",
   "execution_count": 3,
   "metadata": {},
   "outputs": [],
   "source": [
    "df_all.p -= 1"
   ]
  },
  {
   "cell_type": "code",
   "execution_count": 4,
   "metadata": {},
   "outputs": [],
   "source": [
    "#df_all.p = df_all.p.max() - df_all.p"
   ]
  },
  {
   "cell_type": "markdown",
   "metadata": {},
   "source": [
    "## Ускорение и закон Амдаля"
   ]
  },
  {
   "cell_type": "code",
   "execution_count": 5,
   "metadata": {
    "pycharm": {
     "is_executing": false
    }
   },
   "outputs": [],
   "source": [
    "for n in df_all.n.unique():\n",
    "    for p in df_all.p.unique():\n",
    "        df_all.loc[(df_all.p==p)&(df_all.n==n),'mean_time'] = df_all[(df_all.p==p)&(df_all.n==n)]['time'].mean()"
   ]
  },
  {
   "cell_type": "code",
   "execution_count": 6,
   "metadata": {},
   "outputs": [
    {
     "data": {
      "text/html": [
       "<div>\n",
       "<style scoped>\n",
       "    .dataframe tbody tr th:only-of-type {\n",
       "        vertical-align: middle;\n",
       "    }\n",
       "\n",
       "    .dataframe tbody tr th {\n",
       "        vertical-align: top;\n",
       "    }\n",
       "\n",
       "    .dataframe thead th {\n",
       "        text-align: right;\n",
       "    }\n",
       "</style>\n",
       "<table border=\"1\" class=\"dataframe\">\n",
       "  <thead>\n",
       "    <tr style=\"text-align: right;\">\n",
       "      <th></th>\n",
       "      <th>n</th>\n",
       "      <th>p</th>\n",
       "      <th>time</th>\n",
       "      <th>mean_time</th>\n",
       "    </tr>\n",
       "  </thead>\n",
       "  <tbody>\n",
       "    <tr>\n",
       "      <th>0</th>\n",
       "      <td>10</td>\n",
       "      <td>1</td>\n",
       "      <td>0.002002</td>\n",
       "      <td>0.002002</td>\n",
       "    </tr>\n",
       "    <tr>\n",
       "      <th>1</th>\n",
       "      <td>20</td>\n",
       "      <td>1</td>\n",
       "      <td>0.008601</td>\n",
       "      <td>0.008601</td>\n",
       "    </tr>\n",
       "    <tr>\n",
       "      <th>2</th>\n",
       "      <td>30</td>\n",
       "      <td>1</td>\n",
       "      <td>0.023870</td>\n",
       "      <td>0.023870</td>\n",
       "    </tr>\n",
       "    <tr>\n",
       "      <th>3</th>\n",
       "      <td>40</td>\n",
       "      <td>1</td>\n",
       "      <td>0.062628</td>\n",
       "      <td>0.062628</td>\n",
       "    </tr>\n",
       "    <tr>\n",
       "      <th>4</th>\n",
       "      <td>50</td>\n",
       "      <td>1</td>\n",
       "      <td>0.097454</td>\n",
       "      <td>0.097454</td>\n",
       "    </tr>\n",
       "    <tr>\n",
       "      <th>5</th>\n",
       "      <td>60</td>\n",
       "      <td>1</td>\n",
       "      <td>0.182317</td>\n",
       "      <td>0.182317</td>\n",
       "    </tr>\n",
       "    <tr>\n",
       "      <th>6</th>\n",
       "      <td>70</td>\n",
       "      <td>1</td>\n",
       "      <td>0.330119</td>\n",
       "      <td>0.330119</td>\n",
       "    </tr>\n",
       "    <tr>\n",
       "      <th>7</th>\n",
       "      <td>10</td>\n",
       "      <td>2</td>\n",
       "      <td>0.001615</td>\n",
       "      <td>0.001615</td>\n",
       "    </tr>\n",
       "    <tr>\n",
       "      <th>8</th>\n",
       "      <td>20</td>\n",
       "      <td>2</td>\n",
       "      <td>0.005774</td>\n",
       "      <td>0.005774</td>\n",
       "    </tr>\n",
       "    <tr>\n",
       "      <th>9</th>\n",
       "      <td>30</td>\n",
       "      <td>2</td>\n",
       "      <td>0.012906</td>\n",
       "      <td>0.012906</td>\n",
       "    </tr>\n",
       "    <tr>\n",
       "      <th>10</th>\n",
       "      <td>40</td>\n",
       "      <td>2</td>\n",
       "      <td>0.028717</td>\n",
       "      <td>0.028717</td>\n",
       "    </tr>\n",
       "    <tr>\n",
       "      <th>11</th>\n",
       "      <td>50</td>\n",
       "      <td>2</td>\n",
       "      <td>0.073990</td>\n",
       "      <td>0.073990</td>\n",
       "    </tr>\n",
       "    <tr>\n",
       "      <th>12</th>\n",
       "      <td>60</td>\n",
       "      <td>2</td>\n",
       "      <td>0.100350</td>\n",
       "      <td>0.100350</td>\n",
       "    </tr>\n",
       "    <tr>\n",
       "      <th>13</th>\n",
       "      <td>70</td>\n",
       "      <td>2</td>\n",
       "      <td>0.175895</td>\n",
       "      <td>0.175895</td>\n",
       "    </tr>\n",
       "    <tr>\n",
       "      <th>14</th>\n",
       "      <td>10</td>\n",
       "      <td>3</td>\n",
       "      <td>0.001087</td>\n",
       "      <td>0.001087</td>\n",
       "    </tr>\n",
       "    <tr>\n",
       "      <th>15</th>\n",
       "      <td>20</td>\n",
       "      <td>3</td>\n",
       "      <td>0.003106</td>\n",
       "      <td>0.003106</td>\n",
       "    </tr>\n",
       "    <tr>\n",
       "      <th>16</th>\n",
       "      <td>30</td>\n",
       "      <td>3</td>\n",
       "      <td>0.010659</td>\n",
       "      <td>0.010659</td>\n",
       "    </tr>\n",
       "    <tr>\n",
       "      <th>17</th>\n",
       "      <td>40</td>\n",
       "      <td>3</td>\n",
       "      <td>0.021261</td>\n",
       "      <td>0.021261</td>\n",
       "    </tr>\n",
       "    <tr>\n",
       "      <th>18</th>\n",
       "      <td>50</td>\n",
       "      <td>3</td>\n",
       "      <td>0.037119</td>\n",
       "      <td>0.037119</td>\n",
       "    </tr>\n",
       "    <tr>\n",
       "      <th>19</th>\n",
       "      <td>60</td>\n",
       "      <td>3</td>\n",
       "      <td>0.062642</td>\n",
       "      <td>0.062642</td>\n",
       "    </tr>\n",
       "    <tr>\n",
       "      <th>20</th>\n",
       "      <td>70</td>\n",
       "      <td>3</td>\n",
       "      <td>0.119636</td>\n",
       "      <td>0.119636</td>\n",
       "    </tr>\n",
       "    <tr>\n",
       "      <th>21</th>\n",
       "      <td>10</td>\n",
       "      <td>4</td>\n",
       "      <td>0.000973</td>\n",
       "      <td>0.000973</td>\n",
       "    </tr>\n",
       "    <tr>\n",
       "      <th>22</th>\n",
       "      <td>20</td>\n",
       "      <td>4</td>\n",
       "      <td>0.003355</td>\n",
       "      <td>0.003355</td>\n",
       "    </tr>\n",
       "    <tr>\n",
       "      <th>23</th>\n",
       "      <td>30</td>\n",
       "      <td>4</td>\n",
       "      <td>0.007224</td>\n",
       "      <td>0.007224</td>\n",
       "    </tr>\n",
       "    <tr>\n",
       "      <th>24</th>\n",
       "      <td>40</td>\n",
       "      <td>4</td>\n",
       "      <td>0.016903</td>\n",
       "      <td>0.016903</td>\n",
       "    </tr>\n",
       "    <tr>\n",
       "      <th>25</th>\n",
       "      <td>50</td>\n",
       "      <td>4</td>\n",
       "      <td>0.085987</td>\n",
       "      <td>0.085987</td>\n",
       "    </tr>\n",
       "    <tr>\n",
       "      <th>26</th>\n",
       "      <td>60</td>\n",
       "      <td>4</td>\n",
       "      <td>0.049954</td>\n",
       "      <td>0.049954</td>\n",
       "    </tr>\n",
       "    <tr>\n",
       "      <th>27</th>\n",
       "      <td>70</td>\n",
       "      <td>4</td>\n",
       "      <td>0.082906</td>\n",
       "      <td>0.082906</td>\n",
       "    </tr>\n",
       "    <tr>\n",
       "      <th>28</th>\n",
       "      <td>10</td>\n",
       "      <td>5</td>\n",
       "      <td>0.001040</td>\n",
       "      <td>0.001040</td>\n",
       "    </tr>\n",
       "    <tr>\n",
       "      <th>29</th>\n",
       "      <td>20</td>\n",
       "      <td>5</td>\n",
       "      <td>0.002720</td>\n",
       "      <td>0.002720</td>\n",
       "    </tr>\n",
       "    <tr>\n",
       "      <th>30</th>\n",
       "      <td>30</td>\n",
       "      <td>5</td>\n",
       "      <td>0.006755</td>\n",
       "      <td>0.006755</td>\n",
       "    </tr>\n",
       "    <tr>\n",
       "      <th>31</th>\n",
       "      <td>40</td>\n",
       "      <td>5</td>\n",
       "      <td>0.013426</td>\n",
       "      <td>0.013426</td>\n",
       "    </tr>\n",
       "    <tr>\n",
       "      <th>32</th>\n",
       "      <td>50</td>\n",
       "      <td>5</td>\n",
       "      <td>0.024895</td>\n",
       "      <td>0.024895</td>\n",
       "    </tr>\n",
       "    <tr>\n",
       "      <th>33</th>\n",
       "      <td>60</td>\n",
       "      <td>5</td>\n",
       "      <td>0.043187</td>\n",
       "      <td>0.043187</td>\n",
       "    </tr>\n",
       "    <tr>\n",
       "      <th>34</th>\n",
       "      <td>70</td>\n",
       "      <td>5</td>\n",
       "      <td>0.067182</td>\n",
       "      <td>0.067182</td>\n",
       "    </tr>\n",
       "    <tr>\n",
       "      <th>35</th>\n",
       "      <td>10</td>\n",
       "      <td>6</td>\n",
       "      <td>0.000902</td>\n",
       "      <td>0.000902</td>\n",
       "    </tr>\n",
       "    <tr>\n",
       "      <th>36</th>\n",
       "      <td>20</td>\n",
       "      <td>6</td>\n",
       "      <td>0.002303</td>\n",
       "      <td>0.002303</td>\n",
       "    </tr>\n",
       "    <tr>\n",
       "      <th>37</th>\n",
       "      <td>30</td>\n",
       "      <td>6</td>\n",
       "      <td>0.005953</td>\n",
       "      <td>0.005953</td>\n",
       "    </tr>\n",
       "    <tr>\n",
       "      <th>38</th>\n",
       "      <td>40</td>\n",
       "      <td>6</td>\n",
       "      <td>0.010868</td>\n",
       "      <td>0.010868</td>\n",
       "    </tr>\n",
       "    <tr>\n",
       "      <th>39</th>\n",
       "      <td>50</td>\n",
       "      <td>6</td>\n",
       "      <td>0.020222</td>\n",
       "      <td>0.020222</td>\n",
       "    </tr>\n",
       "    <tr>\n",
       "      <th>40</th>\n",
       "      <td>60</td>\n",
       "      <td>6</td>\n",
       "      <td>0.040413</td>\n",
       "      <td>0.040413</td>\n",
       "    </tr>\n",
       "    <tr>\n",
       "      <th>41</th>\n",
       "      <td>70</td>\n",
       "      <td>6</td>\n",
       "      <td>0.051650</td>\n",
       "      <td>0.051650</td>\n",
       "    </tr>\n",
       "    <tr>\n",
       "      <th>42</th>\n",
       "      <td>10</td>\n",
       "      <td>7</td>\n",
       "      <td>0.000978</td>\n",
       "      <td>0.000978</td>\n",
       "    </tr>\n",
       "    <tr>\n",
       "      <th>43</th>\n",
       "      <td>20</td>\n",
       "      <td>7</td>\n",
       "      <td>0.001902</td>\n",
       "      <td>0.001902</td>\n",
       "    </tr>\n",
       "    <tr>\n",
       "      <th>44</th>\n",
       "      <td>30</td>\n",
       "      <td>7</td>\n",
       "      <td>0.005005</td>\n",
       "      <td>0.005005</td>\n",
       "    </tr>\n",
       "    <tr>\n",
       "      <th>45</th>\n",
       "      <td>40</td>\n",
       "      <td>7</td>\n",
       "      <td>0.017018</td>\n",
       "      <td>0.017018</td>\n",
       "    </tr>\n",
       "    <tr>\n",
       "      <th>46</th>\n",
       "      <td>50</td>\n",
       "      <td>7</td>\n",
       "      <td>0.035244</td>\n",
       "      <td>0.035244</td>\n",
       "    </tr>\n",
       "    <tr>\n",
       "      <th>47</th>\n",
       "      <td>60</td>\n",
       "      <td>7</td>\n",
       "      <td>0.040061</td>\n",
       "      <td>0.040061</td>\n",
       "    </tr>\n",
       "    <tr>\n",
       "      <th>48</th>\n",
       "      <td>70</td>\n",
       "      <td>7</td>\n",
       "      <td>0.056455</td>\n",
       "      <td>0.056455</td>\n",
       "    </tr>\n",
       "  </tbody>\n",
       "</table>\n",
       "</div>"
      ],
      "text/plain": [
       "     n  p      time  mean_time\n",
       "0   10  1  0.002002   0.002002\n",
       "1   20  1  0.008601   0.008601\n",
       "2   30  1  0.023870   0.023870\n",
       "3   40  1  0.062628   0.062628\n",
       "4   50  1  0.097454   0.097454\n",
       "5   60  1  0.182317   0.182317\n",
       "6   70  1  0.330119   0.330119\n",
       "7   10  2  0.001615   0.001615\n",
       "8   20  2  0.005774   0.005774\n",
       "9   30  2  0.012906   0.012906\n",
       "10  40  2  0.028717   0.028717\n",
       "11  50  2  0.073990   0.073990\n",
       "12  60  2  0.100350   0.100350\n",
       "13  70  2  0.175895   0.175895\n",
       "14  10  3  0.001087   0.001087\n",
       "15  20  3  0.003106   0.003106\n",
       "16  30  3  0.010659   0.010659\n",
       "17  40  3  0.021261   0.021261\n",
       "18  50  3  0.037119   0.037119\n",
       "19  60  3  0.062642   0.062642\n",
       "20  70  3  0.119636   0.119636\n",
       "21  10  4  0.000973   0.000973\n",
       "22  20  4  0.003355   0.003355\n",
       "23  30  4  0.007224   0.007224\n",
       "24  40  4  0.016903   0.016903\n",
       "25  50  4  0.085987   0.085987\n",
       "26  60  4  0.049954   0.049954\n",
       "27  70  4  0.082906   0.082906\n",
       "28  10  5  0.001040   0.001040\n",
       "29  20  5  0.002720   0.002720\n",
       "30  30  5  0.006755   0.006755\n",
       "31  40  5  0.013426   0.013426\n",
       "32  50  5  0.024895   0.024895\n",
       "33  60  5  0.043187   0.043187\n",
       "34  70  5  0.067182   0.067182\n",
       "35  10  6  0.000902   0.000902\n",
       "36  20  6  0.002303   0.002303\n",
       "37  30  6  0.005953   0.005953\n",
       "38  40  6  0.010868   0.010868\n",
       "39  50  6  0.020222   0.020222\n",
       "40  60  6  0.040413   0.040413\n",
       "41  70  6  0.051650   0.051650\n",
       "42  10  7  0.000978   0.000978\n",
       "43  20  7  0.001902   0.001902\n",
       "44  30  7  0.005005   0.005005\n",
       "45  40  7  0.017018   0.017018\n",
       "46  50  7  0.035244   0.035244\n",
       "47  60  7  0.040061   0.040061\n",
       "48  70  7  0.056455   0.056455"
      ]
     },
     "execution_count": 6,
     "metadata": {},
     "output_type": "execute_result"
    }
   ],
   "source": [
    "df = df_all\n",
    "df"
   ]
  },
  {
   "cell_type": "code",
   "execution_count": 7,
   "metadata": {
    "pycharm": {
     "is_executing": false
    },
    "scrolled": true
   },
   "outputs": [],
   "source": [
    "for n in df.n.unique():\n",
    "    for p in df.p.unique():\n",
    "        p_1_time = (df[(df.n==n)&(df.p==1)]['mean_time']).iloc[0]\n",
    "        own_time = df[(df.p==p)&(df.n==n)]['mean_time'].iloc[0]\n",
    "        df.loc[(df.p==p)&(df.n==n),'accel'] = p_1_time/own_time"
   ]
  },
  {
   "cell_type": "code",
   "execution_count": 8,
   "metadata": {
    "scrolled": true
   },
   "outputs": [],
   "source": [
    "df['eff'] = df['accel']/df['p']"
   ]
  },
  {
   "cell_type": "code",
   "execution_count": 9,
   "metadata": {
    "scrolled": true
   },
   "outputs": [
    {
     "data": {
      "text/html": [
       "<div>\n",
       "<style scoped>\n",
       "    .dataframe tbody tr th:only-of-type {\n",
       "        vertical-align: middle;\n",
       "    }\n",
       "\n",
       "    .dataframe tbody tr th {\n",
       "        vertical-align: top;\n",
       "    }\n",
       "\n",
       "    .dataframe thead th {\n",
       "        text-align: right;\n",
       "    }\n",
       "</style>\n",
       "<table border=\"1\" class=\"dataframe\">\n",
       "  <thead>\n",
       "    <tr style=\"text-align: right;\">\n",
       "      <th></th>\n",
       "      <th>n</th>\n",
       "      <th>p</th>\n",
       "      <th>time</th>\n",
       "      <th>mean_time</th>\n",
       "      <th>accel</th>\n",
       "      <th>eff</th>\n",
       "    </tr>\n",
       "  </thead>\n",
       "  <tbody>\n",
       "    <tr>\n",
       "      <th>2</th>\n",
       "      <td>30</td>\n",
       "      <td>1</td>\n",
       "      <td>0.023870</td>\n",
       "      <td>0.023870</td>\n",
       "      <td>1.000000</td>\n",
       "      <td>1.000000</td>\n",
       "    </tr>\n",
       "    <tr>\n",
       "      <th>9</th>\n",
       "      <td>30</td>\n",
       "      <td>2</td>\n",
       "      <td>0.012906</td>\n",
       "      <td>0.012906</td>\n",
       "      <td>1.849532</td>\n",
       "      <td>0.924766</td>\n",
       "    </tr>\n",
       "    <tr>\n",
       "      <th>16</th>\n",
       "      <td>30</td>\n",
       "      <td>3</td>\n",
       "      <td>0.010659</td>\n",
       "      <td>0.010659</td>\n",
       "      <td>2.239353</td>\n",
       "      <td>0.746451</td>\n",
       "    </tr>\n",
       "    <tr>\n",
       "      <th>23</th>\n",
       "      <td>30</td>\n",
       "      <td>4</td>\n",
       "      <td>0.007224</td>\n",
       "      <td>0.007224</td>\n",
       "      <td>3.304300</td>\n",
       "      <td>0.826075</td>\n",
       "    </tr>\n",
       "    <tr>\n",
       "      <th>30</th>\n",
       "      <td>30</td>\n",
       "      <td>5</td>\n",
       "      <td>0.006755</td>\n",
       "      <td>0.006755</td>\n",
       "      <td>3.533832</td>\n",
       "      <td>0.706766</td>\n",
       "    </tr>\n",
       "    <tr>\n",
       "      <th>37</th>\n",
       "      <td>30</td>\n",
       "      <td>6</td>\n",
       "      <td>0.005953</td>\n",
       "      <td>0.005953</td>\n",
       "      <td>4.009813</td>\n",
       "      <td>0.668302</td>\n",
       "    </tr>\n",
       "    <tr>\n",
       "      <th>44</th>\n",
       "      <td>30</td>\n",
       "      <td>7</td>\n",
       "      <td>0.005005</td>\n",
       "      <td>0.005005</td>\n",
       "      <td>4.769293</td>\n",
       "      <td>0.681328</td>\n",
       "    </tr>\n",
       "  </tbody>\n",
       "</table>\n",
       "</div>"
      ],
      "text/plain": [
       "     n  p      time  mean_time     accel       eff\n",
       "2   30  1  0.023870   0.023870  1.000000  1.000000\n",
       "9   30  2  0.012906   0.012906  1.849532  0.924766\n",
       "16  30  3  0.010659   0.010659  2.239353  0.746451\n",
       "23  30  4  0.007224   0.007224  3.304300  0.826075\n",
       "30  30  5  0.006755   0.006755  3.533832  0.706766\n",
       "37  30  6  0.005953   0.005953  4.009813  0.668302\n",
       "44  30  7  0.005005   0.005005  4.769293  0.681328"
      ]
     },
     "execution_count": 9,
     "metadata": {},
     "output_type": "execute_result"
    }
   ],
   "source": [
    "df[df.n == 30]"
   ]
  },
  {
   "cell_type": "code",
   "execution_count": 10,
   "metadata": {},
   "outputs": [
    {
     "data": {
      "text/plain": [
       "12    30.0\n",
       "dtype: float64"
      ]
     },
     "execution_count": 10,
     "metadata": {},
     "output_type": "execute_result"
    }
   ],
   "source": [
    "tmp = df[(df.n == 60) & (df.p == 2)]\n",
    "tmp.n / tmp.p"
   ]
  },
  {
   "cell_type": "markdown",
   "metadata": {},
   "source": [
    "## Аппроксимации ускорений"
   ]
  },
  {
   "cell_type": "code",
   "execution_count": 29,
   "metadata": {},
   "outputs": [],
   "source": [
    "def amdal(p, f):\n",
    "    return 1/(f + (1-f)/p)\n",
    "def gustav(p, s):\n",
    "    return p + (1-p)*s"
   ]
  },
  {
   "cell_type": "code",
   "execution_count": 30,
   "metadata": {},
   "outputs": [],
   "source": [
    "def plot_save_graphs(x_label, y_label, fixed='p'):\n",
    "    \n",
    "    def _appr_accel(n, p):\n",
    "        # TODO: place here theoretical approximation\n",
    "        #return 6*n/(6*n/p + 6 + np.log2(p))\n",
    "        return n/n*p\n",
    "    \n",
    "    def _appr_eff(n, p):\n",
    "        return _appr_accel(n, p)/p\n",
    "    \n",
    "    def _appr_gustav(n, p, accels):\n",
    "        '''\n",
    "        if len(np.array(o).reshape(-1)) == 1:\n",
    "            n = np.array([n]*len(accels))\n",
    "        elif len(np.array(accels).reshape(-1)) == 1:\n",
    "            accels = np.array([accels]*len(n))\n",
    "        '''\n",
    "        from scipy.optimize import curve_fit\n",
    "        popt, pcov = curve_fit(gustav, p, accels)\n",
    "        return gustav(p, popt[0])*p/p# - 2\n",
    "    \n",
    "    def _appr_amdal(n, p, accels):\n",
    "        if len(np.array(p).reshape(-1)) == 1:\n",
    "            p = np.array([p]*len(accels))\n",
    "        elif len(np.array(accels).reshape(-1)) == 1:\n",
    "            accels = np.array([accels]*len(p))\n",
    "        from scipy.optimize import curve_fit\n",
    "        popt, pcov = curve_fit(amdal, p, accels)\n",
    "        return amdal(p, popt[0])\n",
    "    \n",
    "\n",
    "    def get_gustav_data(data):\n",
    "        min_p, min_n = min(data['p']), min(data['n'])\n",
    "        koeff = min_n/min_p\n",
    "        indices = np.equal(data['n']/data['p'], koeff)\n",
    "        x_data, y_data = data['p'][indices], data['accel'][indices]\n",
    "        return x_data, y_data\n",
    "    \n",
    "    def _routine(data, x_label, y_label, fixed_value, full_data=None):\n",
    "        x_data, y_data = data[x_label], data[y_label]\n",
    "        \n",
    "        plt.scatter(x_data, y_data, label='real')\n",
    "        p, n = (fixed_value, x_data)\n",
    "        if x_label == 'p':\n",
    "            p, n = (n, p)\n",
    "        # Approximation\n",
    "        if y_label == 'accel':\n",
    "            plt.scatter(x_data, _appr_accel(n, p), color='red', label='theor')\n",
    "            if x_label == 'p':\n",
    "                plt.scatter(x_data, _appr_amdal(n, p, y_data), color='green', label='amdal')\n",
    "                if full_data is not None:\n",
    "                    gustav_x_data, gustav_y_data = get_gustav_data(full_data)\n",
    "                    #print(gustav_x_data, '\\n', gustav_y_data)\n",
    "                    plt.scatter(gustav_x_data, _appr_gustav(n, gustav_x_data, gustav_y_data), color='grey', label='gustav')\n",
    "                    #plt.scatter(gustav_x_data, gustav_y_data, color='grey', label='gustav')\n",
    "            #else:\n",
    "            #    plt.scatter(x_data, _appr_gustav(n, p, y_data), color='grey', label='gustav')\n",
    "        elif y_label == 'eff':\n",
    "            plt.scatter(x_data, _appr_eff(n, p), color='red', label='theor')\n",
    "        plt.xlabel(x_label)\n",
    "        plt.ylabel(y_label)\n",
    "        plt.legend()\n",
    "        plt.title(f'{y_label}, {fixed}={fixed_value}')\n",
    "        plt.savefig(f'{y_label}_{fixed}_{fixed_value}', dpi=120)\n",
    "        plt.show()\n",
    "    if fixed == 'n':\n",
    "        for n in df.n.unique():\n",
    "            data = df[df.n==n]\n",
    "            _routine(data, x_label, y_label, n, full_data=df)\n",
    "    elif fixed == 'p':\n",
    "        for p in df.p.unique():\n",
    "            data = df[df.p==p]\n",
    "            _routine(data, x_label, y_label, p)\n",
    "    else:\n",
    "        raise ValueError('Not implemented')"
   ]
  },
  {
   "cell_type": "code",
   "execution_count": 31,
   "metadata": {
    "pycharm": {
     "name": "#%%\n"
    },
    "scrolled": false
   },
   "outputs": [
    {
     "data": {
      "image/png": "[encoded data removed]",
      "text/plain": [
       "<Figure size 432x288 with 1 Axes>"
      ]
     },
     "metadata": {
      "needs_background": "light"
     },
     "output_type": "display_data"
    },
    {
     "data": {
      "image/png": "[encoded data removed]",
      "text/plain": [
       "<Figure size 432x288 with 1 Axes>"
      ]
     },
     "metadata": {
      "needs_background": "light"
     },
     "output_type": "display_data"
    },
    {
     "data": {
      "image/png": "[encoded data removed]",
      "text/plain": [
       "<Figure size 432x288 with 1 Axes>"
      ]
     },
     "metadata": {
      "needs_background": "light"
     },
     "output_type": "display_data"
    },
    {
     "data": {
      "image/png": "[encoded data removed]",
      "text/plain": [
       "<Figure size 432x288 with 1 Axes>"
      ]
     },
     "metadata": {
      "needs_background": "light"
     },
     "output_type": "display_data"
    },
    {
     "data": {
      "image/png": "[encoded data removed]",
      "text/plain": [
       "<Figure size 432x288 with 1 Axes>"
      ]
     },
     "metadata": {
      "needs_background": "light"
     },
     "output_type": "display_data"
    },
    {
     "data": {
      "image/png": "[encoded data removed]",
      "text/plain": [
       "<Figure size 432x288 with 1 Axes>"
      ]
     },
     "metadata": {
      "needs_background": "light"
     },
     "output_type": "display_data"
    },
    {
     "data": {
      "image/png": "[encoded data removed]",
      "text/plain": [
       "<Figure size 432x288 with 1 Axes>"
      ]
     },
     "metadata": {
      "needs_background": "light"
     },
     "output_type": "display_data"
    }
   ],
   "source": [
    "plot_save_graphs('p', 'accel', fixed='n')\n",
    "#plot_save_graphs('n', 'accel', fixed='p')\n",
    "#plot_save_graphs('p', 'eff', fixed='n')\n",
    "#plot_save_graphs('n', 'eff', fixed='p')"
   ]
  },
  {
   "cell_type": "code",
   "execution_count": null,
   "metadata": {},
   "outputs": [],
   "source": []
  },
  {
   "cell_type": "code",
   "execution_count": null,
   "metadata": {},
   "outputs": [],
   "source": []
  },
  {
   "cell_type": "code",
   "execution_count": null,
   "metadata": {},
   "outputs": [],
   "source": []
  },
  {
   "cell_type": "code",
   "execution_count": null,
   "metadata": {},
   "outputs": [],
   "source": []
  },
  {
   "cell_type": "code",
   "execution_count": null,
   "metadata": {},
   "outputs": [],
   "source": []
  },
  {
   "cell_type": "code",
   "execution_count": null,
   "metadata": {},
   "outputs": [],
   "source": []
  },
  {
   "cell_type": "code",
   "execution_count": null,
   "metadata": {},
   "outputs": [],
   "source": []
  },
  {
   "cell_type": "code",
   "execution_count": null,
   "metadata": {},
   "outputs": [],
   "source": []
  },
  {
   "cell_type": "code",
   "execution_count": null,
   "metadata": {},
   "outputs": [],
   "source": []
  },
  {
   "cell_type": "code",
   "execution_count": null,
   "metadata": {},
   "outputs": [],
   "source": []
  },
  {
   "cell_type": "code",
   "execution_count": null,
   "metadata": {},
   "outputs": [],
   "source": []
  },
  {
   "cell_type": "code",
   "execution_count": null,
   "metadata": {},
   "outputs": [],
   "source": []
  },
  {
   "cell_type": "code",
   "execution_count": null,
   "metadata": {},
   "outputs": [],
   "source": []
  },
  {
   "cell_type": "code",
   "execution_count": null,
   "metadata": {},
   "outputs": [],
   "source": []
  },
  {
   "cell_type": "code",
   "execution_count": null,
   "metadata": {},
   "outputs": [],
   "source": []
  },
  {
   "cell_type": "code",
   "execution_count": null,
   "metadata": {},
   "outputs": [],
   "source": []
  },
  {
   "cell_type": "code",
   "execution_count": null,
   "metadata": {},
   "outputs": [],
   "source": []
  },
  {
   "cell_type": "code",
   "execution_count": null,
   "metadata": {},
   "outputs": [],
   "source": []
  },
  {
   "cell_type": "code",
   "execution_count": null,
   "metadata": {},
   "outputs": [],
   "source": []
  },
  {
   "cell_type": "code",
   "execution_count": null,
   "metadata": {},
   "outputs": [],
   "source": []
  },
  {
   "cell_type": "markdown",
   "metadata": {},
   "source": [
    "БОНУС: неидеальные оценки\n",
    "    \n",
    "Время вычисления (оценка):\n",
    "$$\n",
    "T_p (calc) =  \\frac{n^2}{p} (2 n - 1) t,\n",
    "$$\n",
    "где t - время выполнения одной элементарной скалярной операции.\n",
    "\n",
    "Будем предполагать, что все операции передачи данных между процессорами в ходе одной итерации алгоритма могут быть выполнены параллельно. Объем передаваемых данных между процессорами определяется размером полос и составляет $n/p$ строк или столбцов длины $n$. Общее количество параллельных операций передачи сообщений на 1 меньше числа итераций алгоритма (на последней итерации передача данных не является обязательной). Тогда:\n",
    "\n",
    "$$\n",
    "T_p (comm) = (p - 1) (a + w n ( n / p ) / b ),\n",
    "$$ где $a$ - постоянная задержка (латентность), $b$ - пропускная способность сети передачи данных, а $w$ - размер элемента матрицы в байтах. Тогда\n",
    "\n",
    "$$\n",
    "    T_p = \\frac{n^2}{p} \\left(2n - 1\\right) t + (p - 1) \\left(a + w n \\frac{n}{pb}\\right)\n",
    "$$\n",
    "\n",
    "Здесь параметрами выступают $a$, $b$, $t$. В случае типа `np.float` $w = 8$"
   ]
  }
 ],
 "metadata": {
  "kernelspec": {
   "display_name": "Python 3",
   "language": "python",
   "name": "python3"
  },
  "language_info": {
   "codemirror_mode": {
    "name": "ipython",
    "version": 3
   },
   "file_extension": ".py",
   "mimetype": "text/x-python",
   "name": "python",
   "nbconvert_exporter": "python",
   "pygments_lexer": "ipython3",
   "version": "3.7.4"
  },
  "pycharm": {
   "stem_cell": {
    "cell_type": "raw",
    "metadata": {
     "collapsed": false
    },
    "source": []
   }
  }
 },
 "nbformat": 4,
 "nbformat_minor": 2
}
