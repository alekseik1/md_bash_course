{
 "cells": [
  {
   "cell_type": "markdown",
   "metadata": {},
   "source": [
    "# Задание 2\n",
    "\n",
    "\n",
    "Умножение столбца на столбец осуществляется сразу на всех ядрах в одну итерацию. В идеальном случае задержки на связь отсутствуют, поэтому имеем:\n",
    "$$\n",
    "S_p = p \\\\\n",
    "E_p = 1\n",
    "$$\n",
    "\n",
    "Этот же результат можно получить как частный случай оценки сложности умножения матрицы на вектор (см. [здесь](https://www.intuit.ru/studies/courses/1156/190/lecture/4952?page=2))."
   ]
  },
  {
   "cell_type": "code",
   "execution_count": 28,
   "metadata": {
    "pycharm": {
     "is_executing": false
    }
   },
   "outputs": [],
   "source": [
    "import pandas as pd\n",
    "import numpy as np\n",
    "import matplotlib.pyplot as plt"
   ]
  },
  {
   "cell_type": "code",
   "execution_count": 29,
   "metadata": {
    "pycharm": {
     "is_executing": false
    },
    "scrolled": true
   },
   "outputs": [
    {
     "data": {
      "text/html": [
       "<div>\n",
       "<style scoped>\n",
       "    .dataframe tbody tr th:only-of-type {\n",
       "        vertical-align: middle;\n",
       "    }\n",
       "\n",
       "    .dataframe tbody tr th {\n",
       "        vertical-align: top;\n",
       "    }\n",
       "\n",
       "    .dataframe thead th {\n",
       "        text-align: right;\n",
       "    }\n",
       "</style>\n",
       "<table border=\"1\" class=\"dataframe\">\n",
       "  <thead>\n",
       "    <tr style=\"text-align: right;\">\n",
       "      <th></th>\n",
       "      <th>n</th>\n",
       "      <th>p</th>\n",
       "      <th>time</th>\n",
       "    </tr>\n",
       "  </thead>\n",
       "  <tbody>\n",
       "    <tr>\n",
       "      <th>0</th>\n",
       "      <td>1000000</td>\n",
       "      <td>2</td>\n",
       "      <td>0.544933</td>\n",
       "    </tr>\n",
       "    <tr>\n",
       "      <th>1</th>\n",
       "      <td>2000000</td>\n",
       "      <td>2</td>\n",
       "      <td>1.116346</td>\n",
       "    </tr>\n",
       "    <tr>\n",
       "      <th>2</th>\n",
       "      <td>3000000</td>\n",
       "      <td>2</td>\n",
       "      <td>1.562413</td>\n",
       "    </tr>\n",
       "    <tr>\n",
       "      <th>3</th>\n",
       "      <td>4000000</td>\n",
       "      <td>2</td>\n",
       "      <td>2.133739</td>\n",
       "    </tr>\n",
       "    <tr>\n",
       "      <th>4</th>\n",
       "      <td>5000000</td>\n",
       "      <td>2</td>\n",
       "      <td>2.573424</td>\n",
       "    </tr>\n",
       "  </tbody>\n",
       "</table>\n",
       "</div>"
      ],
      "text/plain": [
       "         n  p      time\n",
       "0  1000000  2  0.544933\n",
       "1  2000000  2  1.116346\n",
       "2  3000000  2  1.562413\n",
       "3  4000000  2  2.133739\n",
       "4  5000000  2  2.573424"
      ]
     },
     "execution_count": 29,
     "metadata": {},
     "output_type": "execute_result"
    }
   ],
   "source": [
    "df_all = pd.read_csv('results.csv', sep=';')\n",
    "df_all.head()"
   ]
  },
  {
   "cell_type": "code",
   "execution_count": 30,
   "metadata": {},
   "outputs": [],
   "source": [
    "df_all.p -= 1"
   ]
  },
  {
   "cell_type": "code",
   "execution_count": 31,
   "metadata": {},
   "outputs": [],
   "source": [
    "#df_all.p = df_all.p.max() - df_all.p"
   ]
  },
  {
   "cell_type": "markdown",
   "metadata": {},
   "source": [
    "## Ускорение и закон Амдаля"
   ]
  },
  {
   "cell_type": "code",
   "execution_count": 32,
   "metadata": {
    "pycharm": {
     "is_executing": false
    }
   },
   "outputs": [],
   "source": [
    "for n in df_all.n.unique():\n",
    "    for p in df_all.p.unique():\n",
    "        df_all.loc[(df_all.p==p)&(df_all.n==n),'mean_time'] = df_all[(df_all.p==p)&(df_all.n==n)]['time'].mean()"
   ]
  },
  {
   "cell_type": "code",
   "execution_count": 33,
   "metadata": {},
   "outputs": [
    {
     "data": {
      "text/html": [
       "<div>\n",
       "<style scoped>\n",
       "    .dataframe tbody tr th:only-of-type {\n",
       "        vertical-align: middle;\n",
       "    }\n",
       "\n",
       "    .dataframe tbody tr th {\n",
       "        vertical-align: top;\n",
       "    }\n",
       "\n",
       "    .dataframe thead th {\n",
       "        text-align: right;\n",
       "    }\n",
       "</style>\n",
       "<table border=\"1\" class=\"dataframe\">\n",
       "  <thead>\n",
       "    <tr style=\"text-align: right;\">\n",
       "      <th></th>\n",
       "      <th>n</th>\n",
       "      <th>p</th>\n",
       "      <th>time</th>\n",
       "      <th>mean_time</th>\n",
       "    </tr>\n",
       "  </thead>\n",
       "  <tbody>\n",
       "    <tr>\n",
       "      <th>0</th>\n",
       "      <td>1000000</td>\n",
       "      <td>1</td>\n",
       "      <td>0.544933</td>\n",
       "      <td>0.544933</td>\n",
       "    </tr>\n",
       "    <tr>\n",
       "      <th>1</th>\n",
       "      <td>2000000</td>\n",
       "      <td>1</td>\n",
       "      <td>1.116346</td>\n",
       "      <td>1.116346</td>\n",
       "    </tr>\n",
       "    <tr>\n",
       "      <th>2</th>\n",
       "      <td>3000000</td>\n",
       "      <td>1</td>\n",
       "      <td>1.562413</td>\n",
       "      <td>1.562413</td>\n",
       "    </tr>\n",
       "    <tr>\n",
       "      <th>3</th>\n",
       "      <td>4000000</td>\n",
       "      <td>1</td>\n",
       "      <td>2.133739</td>\n",
       "      <td>2.133739</td>\n",
       "    </tr>\n",
       "    <tr>\n",
       "      <th>4</th>\n",
       "      <td>5000000</td>\n",
       "      <td>1</td>\n",
       "      <td>2.573424</td>\n",
       "      <td>2.573424</td>\n",
       "    </tr>\n",
       "    <tr>\n",
       "      <th>5</th>\n",
       "      <td>6000000</td>\n",
       "      <td>1</td>\n",
       "      <td>3.148605</td>\n",
       "      <td>3.148605</td>\n",
       "    </tr>\n",
       "    <tr>\n",
       "      <th>6</th>\n",
       "      <td>7000000</td>\n",
       "      <td>1</td>\n",
       "      <td>4.447984</td>\n",
       "      <td>4.447984</td>\n",
       "    </tr>\n",
       "    <tr>\n",
       "      <th>7</th>\n",
       "      <td>1000000</td>\n",
       "      <td>2</td>\n",
       "      <td>0.336020</td>\n",
       "      <td>0.336020</td>\n",
       "    </tr>\n",
       "    <tr>\n",
       "      <th>8</th>\n",
       "      <td>2000000</td>\n",
       "      <td>2</td>\n",
       "      <td>0.708805</td>\n",
       "      <td>0.708805</td>\n",
       "    </tr>\n",
       "    <tr>\n",
       "      <th>9</th>\n",
       "      <td>3000000</td>\n",
       "      <td>2</td>\n",
       "      <td>0.898307</td>\n",
       "      <td>0.898307</td>\n",
       "    </tr>\n",
       "    <tr>\n",
       "      <th>10</th>\n",
       "      <td>4000000</td>\n",
       "      <td>2</td>\n",
       "      <td>1.199026</td>\n",
       "      <td>1.199026</td>\n",
       "    </tr>\n",
       "    <tr>\n",
       "      <th>11</th>\n",
       "      <td>5000000</td>\n",
       "      <td>2</td>\n",
       "      <td>1.702100</td>\n",
       "      <td>1.702100</td>\n",
       "    </tr>\n",
       "    <tr>\n",
       "      <th>12</th>\n",
       "      <td>6000000</td>\n",
       "      <td>2</td>\n",
       "      <td>1.771501</td>\n",
       "      <td>1.771501</td>\n",
       "    </tr>\n",
       "    <tr>\n",
       "      <th>13</th>\n",
       "      <td>7000000</td>\n",
       "      <td>2</td>\n",
       "      <td>2.191755</td>\n",
       "      <td>2.191755</td>\n",
       "    </tr>\n",
       "    <tr>\n",
       "      <th>14</th>\n",
       "      <td>1000000</td>\n",
       "      <td>3</td>\n",
       "      <td>0.223930</td>\n",
       "      <td>0.223930</td>\n",
       "    </tr>\n",
       "    <tr>\n",
       "      <th>15</th>\n",
       "      <td>2000000</td>\n",
       "      <td>3</td>\n",
       "      <td>0.381649</td>\n",
       "      <td>0.381649</td>\n",
       "    </tr>\n",
       "    <tr>\n",
       "      <th>16</th>\n",
       "      <td>3000000</td>\n",
       "      <td>3</td>\n",
       "      <td>0.588276</td>\n",
       "      <td>0.588276</td>\n",
       "    </tr>\n",
       "    <tr>\n",
       "      <th>17</th>\n",
       "      <td>4000000</td>\n",
       "      <td>3</td>\n",
       "      <td>0.869116</td>\n",
       "      <td>0.869116</td>\n",
       "    </tr>\n",
       "    <tr>\n",
       "      <th>18</th>\n",
       "      <td>5000000</td>\n",
       "      <td>3</td>\n",
       "      <td>1.022878</td>\n",
       "      <td>1.022878</td>\n",
       "    </tr>\n",
       "    <tr>\n",
       "      <th>19</th>\n",
       "      <td>6000000</td>\n",
       "      <td>3</td>\n",
       "      <td>1.163303</td>\n",
       "      <td>1.163303</td>\n",
       "    </tr>\n",
       "    <tr>\n",
       "      <th>20</th>\n",
       "      <td>7000000</td>\n",
       "      <td>3</td>\n",
       "      <td>1.674580</td>\n",
       "      <td>1.674580</td>\n",
       "    </tr>\n",
       "    <tr>\n",
       "      <th>21</th>\n",
       "      <td>1000000</td>\n",
       "      <td>4</td>\n",
       "      <td>0.178749</td>\n",
       "      <td>0.178749</td>\n",
       "    </tr>\n",
       "    <tr>\n",
       "      <th>22</th>\n",
       "      <td>2000000</td>\n",
       "      <td>4</td>\n",
       "      <td>0.370966</td>\n",
       "      <td>0.370966</td>\n",
       "    </tr>\n",
       "    <tr>\n",
       "      <th>23</th>\n",
       "      <td>3000000</td>\n",
       "      <td>4</td>\n",
       "      <td>0.494197</td>\n",
       "      <td>0.494197</td>\n",
       "    </tr>\n",
       "    <tr>\n",
       "      <th>24</th>\n",
       "      <td>4000000</td>\n",
       "      <td>4</td>\n",
       "      <td>0.666066</td>\n",
       "      <td>0.666066</td>\n",
       "    </tr>\n",
       "    <tr>\n",
       "      <th>25</th>\n",
       "      <td>5000000</td>\n",
       "      <td>4</td>\n",
       "      <td>2.307373</td>\n",
       "      <td>2.307373</td>\n",
       "    </tr>\n",
       "    <tr>\n",
       "      <th>26</th>\n",
       "      <td>6000000</td>\n",
       "      <td>4</td>\n",
       "      <td>1.015342</td>\n",
       "      <td>1.015342</td>\n",
       "    </tr>\n",
       "    <tr>\n",
       "      <th>27</th>\n",
       "      <td>7000000</td>\n",
       "      <td>4</td>\n",
       "      <td>1.238029</td>\n",
       "      <td>1.238029</td>\n",
       "    </tr>\n",
       "    <tr>\n",
       "      <th>28</th>\n",
       "      <td>1000000</td>\n",
       "      <td>5</td>\n",
       "      <td>0.160032</td>\n",
       "      <td>0.160032</td>\n",
       "    </tr>\n",
       "    <tr>\n",
       "      <th>29</th>\n",
       "      <td>2000000</td>\n",
       "      <td>5</td>\n",
       "      <td>0.295442</td>\n",
       "      <td>0.295442</td>\n",
       "    </tr>\n",
       "    <tr>\n",
       "      <th>30</th>\n",
       "      <td>3000000</td>\n",
       "      <td>5</td>\n",
       "      <td>0.435872</td>\n",
       "      <td>0.435872</td>\n",
       "    </tr>\n",
       "    <tr>\n",
       "      <th>31</th>\n",
       "      <td>4000000</td>\n",
       "      <td>5</td>\n",
       "      <td>0.526055</td>\n",
       "      <td>0.526055</td>\n",
       "    </tr>\n",
       "    <tr>\n",
       "      <th>32</th>\n",
       "      <td>5000000</td>\n",
       "      <td>5</td>\n",
       "      <td>0.624185</td>\n",
       "      <td>0.624185</td>\n",
       "    </tr>\n",
       "    <tr>\n",
       "      <th>33</th>\n",
       "      <td>6000000</td>\n",
       "      <td>5</td>\n",
       "      <td>0.844709</td>\n",
       "      <td>0.844709</td>\n",
       "    </tr>\n",
       "    <tr>\n",
       "      <th>34</th>\n",
       "      <td>7000000</td>\n",
       "      <td>5</td>\n",
       "      <td>0.988757</td>\n",
       "      <td>0.988757</td>\n",
       "    </tr>\n",
       "    <tr>\n",
       "      <th>35</th>\n",
       "      <td>1000000</td>\n",
       "      <td>6</td>\n",
       "      <td>0.148997</td>\n",
       "      <td>0.148997</td>\n",
       "    </tr>\n",
       "    <tr>\n",
       "      <th>36</th>\n",
       "      <td>2000000</td>\n",
       "      <td>6</td>\n",
       "      <td>0.248642</td>\n",
       "      <td>0.248642</td>\n",
       "    </tr>\n",
       "    <tr>\n",
       "      <th>37</th>\n",
       "      <td>3000000</td>\n",
       "      <td>6</td>\n",
       "      <td>0.364809</td>\n",
       "      <td>0.364809</td>\n",
       "    </tr>\n",
       "    <tr>\n",
       "      <th>38</th>\n",
       "      <td>4000000</td>\n",
       "      <td>6</td>\n",
       "      <td>0.486743</td>\n",
       "      <td>0.486743</td>\n",
       "    </tr>\n",
       "    <tr>\n",
       "      <th>39</th>\n",
       "      <td>5000000</td>\n",
       "      <td>6</td>\n",
       "      <td>0.590479</td>\n",
       "      <td>0.590479</td>\n",
       "    </tr>\n",
       "    <tr>\n",
       "      <th>40</th>\n",
       "      <td>6000000</td>\n",
       "      <td>6</td>\n",
       "      <td>0.751955</td>\n",
       "      <td>0.751955</td>\n",
       "    </tr>\n",
       "    <tr>\n",
       "      <th>41</th>\n",
       "      <td>7000000</td>\n",
       "      <td>6</td>\n",
       "      <td>0.827145</td>\n",
       "      <td>0.827145</td>\n",
       "    </tr>\n",
       "    <tr>\n",
       "      <th>42</th>\n",
       "      <td>1000000</td>\n",
       "      <td>7</td>\n",
       "      <td>0.168853</td>\n",
       "      <td>0.168853</td>\n",
       "    </tr>\n",
       "    <tr>\n",
       "      <th>43</th>\n",
       "      <td>2000000</td>\n",
       "      <td>7</td>\n",
       "      <td>0.233578</td>\n",
       "      <td>0.233578</td>\n",
       "    </tr>\n",
       "    <tr>\n",
       "      <th>44</th>\n",
       "      <td>3000000</td>\n",
       "      <td>7</td>\n",
       "      <td>0.337836</td>\n",
       "      <td>0.337836</td>\n",
       "    </tr>\n",
       "    <tr>\n",
       "      <th>45</th>\n",
       "      <td>4000000</td>\n",
       "      <td>7</td>\n",
       "      <td>0.452009</td>\n",
       "      <td>0.452009</td>\n",
       "    </tr>\n",
       "    <tr>\n",
       "      <th>46</th>\n",
       "      <td>5000000</td>\n",
       "      <td>7</td>\n",
       "      <td>0.555611</td>\n",
       "      <td>0.555611</td>\n",
       "    </tr>\n",
       "    <tr>\n",
       "      <th>47</th>\n",
       "      <td>6000000</td>\n",
       "      <td>7</td>\n",
       "      <td>0.672240</td>\n",
       "      <td>0.672240</td>\n",
       "    </tr>\n",
       "    <tr>\n",
       "      <th>48</th>\n",
       "      <td>7000000</td>\n",
       "      <td>7</td>\n",
       "      <td>0.888896</td>\n",
       "      <td>0.888896</td>\n",
       "    </tr>\n",
       "  </tbody>\n",
       "</table>\n",
       "</div>"
      ],
      "text/plain": [
       "          n  p      time  mean_time\n",
       "0   1000000  1  0.544933   0.544933\n",
       "1   2000000  1  1.116346   1.116346\n",
       "2   3000000  1  1.562413   1.562413\n",
       "3   4000000  1  2.133739   2.133739\n",
       "4   5000000  1  2.573424   2.573424\n",
       "5   6000000  1  3.148605   3.148605\n",
       "6   7000000  1  4.447984   4.447984\n",
       "7   1000000  2  0.336020   0.336020\n",
       "8   2000000  2  0.708805   0.708805\n",
       "9   3000000  2  0.898307   0.898307\n",
       "10  4000000  2  1.199026   1.199026\n",
       "11  5000000  2  1.702100   1.702100\n",
       "12  6000000  2  1.771501   1.771501\n",
       "13  7000000  2  2.191755   2.191755\n",
       "14  1000000  3  0.223930   0.223930\n",
       "15  2000000  3  0.381649   0.381649\n",
       "16  3000000  3  0.588276   0.588276\n",
       "17  4000000  3  0.869116   0.869116\n",
       "18  5000000  3  1.022878   1.022878\n",
       "19  6000000  3  1.163303   1.163303\n",
       "20  7000000  3  1.674580   1.674580\n",
       "21  1000000  4  0.178749   0.178749\n",
       "22  2000000  4  0.370966   0.370966\n",
       "23  3000000  4  0.494197   0.494197\n",
       "24  4000000  4  0.666066   0.666066\n",
       "25  5000000  4  2.307373   2.307373\n",
       "26  6000000  4  1.015342   1.015342\n",
       "27  7000000  4  1.238029   1.238029\n",
       "28  1000000  5  0.160032   0.160032\n",
       "29  2000000  5  0.295442   0.295442\n",
       "30  3000000  5  0.435872   0.435872\n",
       "31  4000000  5  0.526055   0.526055\n",
       "32  5000000  5  0.624185   0.624185\n",
       "33  6000000  5  0.844709   0.844709\n",
       "34  7000000  5  0.988757   0.988757\n",
       "35  1000000  6  0.148997   0.148997\n",
       "36  2000000  6  0.248642   0.248642\n",
       "37  3000000  6  0.364809   0.364809\n",
       "38  4000000  6  0.486743   0.486743\n",
       "39  5000000  6  0.590479   0.590479\n",
       "40  6000000  6  0.751955   0.751955\n",
       "41  7000000  6  0.827145   0.827145\n",
       "42  1000000  7  0.168853   0.168853\n",
       "43  2000000  7  0.233578   0.233578\n",
       "44  3000000  7  0.337836   0.337836\n",
       "45  4000000  7  0.452009   0.452009\n",
       "46  5000000  7  0.555611   0.555611\n",
       "47  6000000  7  0.672240   0.672240\n",
       "48  7000000  7  0.888896   0.888896"
      ]
     },
     "execution_count": 33,
     "metadata": {},
     "output_type": "execute_result"
    }
   ],
   "source": [
    "df = df_all\n",
    "df"
   ]
  },
  {
   "cell_type": "code",
   "execution_count": 34,
   "metadata": {
    "pycharm": {
     "is_executing": false
    },
    "scrolled": true
   },
   "outputs": [],
   "source": [
    "for n in df.n.unique():\n",
    "    for p in df.p.unique():\n",
    "        p_1_time = (df[(df.n==n)&(df.p==1)]['mean_time']).iloc[0]\n",
    "        own_time = df[(df.p==p)&(df.n==n)]['mean_time'].iloc[0]\n",
    "        df.loc[(df.p==p)&(df.n==n),'accel'] = p_1_time/own_time"
   ]
  },
  {
   "cell_type": "code",
   "execution_count": 35,
   "metadata": {
    "scrolled": true
   },
   "outputs": [],
   "source": [
    "df['eff'] = df['accel']/df['p']"
   ]
  },
  {
   "cell_type": "markdown",
   "metadata": {},
   "source": [
    "## Аппроксимации ускорений"
   ]
  },
  {
   "cell_type": "code",
   "execution_count": 36,
   "metadata": {},
   "outputs": [],
   "source": [
    "def amdal(p, f):\n",
    "    return 1/(f + (1-f)/p)\n",
    "def gustav(p, s):\n",
    "    return p + (1-p)*s"
   ]
  },
  {
   "cell_type": "code",
   "execution_count": 37,
   "metadata": {},
   "outputs": [],
   "source": [
    "def plot_save_graphs(x_label, y_label, fixed='p'):\n",
    "    \n",
    "    def _appr_accel(n, p):\n",
    "        # TODO: place here theoretical approximation\n",
    "        #return 6*n/(6*n/p + 6 + np.log2(p))\n",
    "        return n/n*p\n",
    "    \n",
    "    def _appr_eff(n, p):\n",
    "        return _appr_accel(n, p)/p\n",
    "    \n",
    "    def _appr_gustav(n, p, accels):\n",
    "        '''\n",
    "        if len(np.array(o).reshape(-1)) == 1:\n",
    "            n = np.array([n]*len(accels))\n",
    "        elif len(np.array(accels).reshape(-1)) == 1:\n",
    "            accels = np.array([accels]*len(n))\n",
    "        '''\n",
    "        from scipy.optimize import curve_fit\n",
    "        popt, pcov = curve_fit(gustav, p, accels)\n",
    "        return gustav(p, popt[0])*p/p# - 2\n",
    "    \n",
    "    def _appr_amdal(n, p, accels):\n",
    "        if len(np.array(p).reshape(-1)) == 1:\n",
    "            p = np.array([p]*len(accels))\n",
    "        elif len(np.array(accels).reshape(-1)) == 1:\n",
    "            accels = np.array([accels]*len(p))\n",
    "        from scipy.optimize import curve_fit\n",
    "        popt, pcov = curve_fit(amdal, p, accels)\n",
    "        return amdal(p, popt[0])\n",
    "    \n",
    "\n",
    "    def get_gustav_data(data):\n",
    "        min_p, min_n = min(data['p']), min(data['n'])\n",
    "        koeff = min_n/min_p\n",
    "        indices = np.equal(data['n']/data['p'], koeff)\n",
    "        x_data, y_data = data['p'][indices], data['accel'][indices]\n",
    "        return x_data, y_data\n",
    "    \n",
    "    def _routine(data, x_label, y_label, fixed_value, full_data=None):\n",
    "        x_data, y_data = data[x_label], data[y_label]\n",
    "        \n",
    "        plt.scatter(x_data, y_data, label='real')\n",
    "        p, n = (fixed_value, x_data)\n",
    "        if x_label == 'p':\n",
    "            p, n = (n, p)\n",
    "        # Approximation\n",
    "        if y_label == 'accel':\n",
    "            plt.scatter(x_data, _appr_accel(n, p), color='red', label='theor')\n",
    "            if x_label == 'p':\n",
    "                plt.scatter(x_data, _appr_amdal(n, p, y_data), color='green', label='amdal')\n",
    "                if full_data is not None:\n",
    "                    gustav_x_data, gustav_y_data = get_gustav_data(full_data)\n",
    "                    #print(gustav_x_data, '\\n', gustav_y_data)\n",
    "                    plt.scatter(gustav_x_data, _appr_gustav(n, gustav_x_data, gustav_y_data), color='grey', label='gustav')\n",
    "                    #plt.scatter(gustav_x_data, gustav_y_data, color='grey', label='gustav')\n",
    "            #else:\n",
    "            #    plt.scatter(x_data, _appr_gustav(n, p, y_data), color='grey', label='gustav')\n",
    "        elif y_label == 'eff':\n",
    "            plt.scatter(x_data, _appr_eff(n, p), color='red', label='theor')\n",
    "        plt.xlabel(x_label)\n",
    "        plt.ylabel(y_label)\n",
    "        plt.legend()\n",
    "        plt.title(f'{y_label}, {fixed}={fixed_value}')\n",
    "        plt.savefig(f'{y_label}_{fixed}_{fixed_value}', dpi=120)\n",
    "        plt.show()\n",
    "    if fixed == 'n':\n",
    "        for n in df.n.unique():\n",
    "            data = df[df.n==n]\n",
    "            _routine(data, x_label, y_label, n, full_data=df)\n",
    "    elif fixed == 'p':\n",
    "        for p in df.p.unique():\n",
    "            data = df[df.p==p]\n",
    "            _routine(data, x_label, y_label, p)\n",
    "    else:\n",
    "        raise ValueError('Not implemented')"
   ]
  },
  {
   "cell_type": "code",
   "execution_count": 39,
   "metadata": {
    "pycharm": {
     "name": "#%%\n"
    },
    "scrolled": false
   },
   "outputs": [
    {
     "data": {
      "image/png": "[encoded data removed]",
      "text/plain": [
       "<Figure size 432x288 with 1 Axes>"
      ]
     },
     "metadata": {
      "needs_background": "light"
     },
     "output_type": "display_data"
    },
    {
     "data": {
      "image/png": "[encoded data removed]",
      "text/plain": [
       "<Figure size 432x288 with 1 Axes>"
      ]
     },
     "metadata": {
      "needs_background": "light"
     },
     "output_type": "display_data"
    },
    {
     "data": {
      "image/png": "[encoded data removed]",
      "text/plain": [
       "<Figure size 432x288 with 1 Axes>"
      ]
     },
     "metadata": {
      "needs_background": "light"
     },
     "output_type": "display_data"
    },
    {
     "data": {
      "image/png": "[encoded data removed]",
      "text/plain": [
       "<Figure size 432x288 with 1 Axes>"
      ]
     },
     "metadata": {
      "needs_background": "light"
     },
     "output_type": "display_data"
    },
    {
     "data": {
      "image/png": "[encoded data removed]",
      "text/plain": [
       "<Figure size 432x288 with 1 Axes>"
      ]
     },
     "metadata": {
      "needs_background": "light"
     },
     "output_type": "display_data"
    },
    {
     "data": {
      "image/png": "[encoded data removed]",
      "text/plain": [
       "<Figure size 432x288 with 1 Axes>"
      ]
     },
     "metadata": {
      "needs_background": "light"
     },
     "output_type": "display_data"
    },
    {
     "data": {
      "image/png": "[encoded data removed]",
      "text/plain": [
       "<Figure size 432x288 with 1 Axes>"
      ]
     },
     "metadata": {
      "needs_background": "light"
     },
     "output_type": "display_data"
    }
   ],
   "source": [
    "plot_save_graphs('p', 'accel', fixed='n')\n",
    "#plot_save_graphs('n', 'accel', fixed='p')\n",
    "#plot_save_graphs('p', 'eff', fixed='n')\n",
    "#plot_save_graphs('n', 'eff', fixed='p')"
   ]
  },
  {
   "cell_type": "code",
   "execution_count": null,
   "metadata": {},
   "outputs": [],
   "source": []
  },
  {
   "cell_type": "code",
   "execution_count": null,
   "metadata": {},
   "outputs": [],
   "source": []
  },
  {
   "cell_type": "code",
   "execution_count": null,
   "metadata": {},
   "outputs": [],
   "source": []
  },
  {
   "cell_type": "code",
   "execution_count": null,
   "metadata": {},
   "outputs": [],
   "source": []
  },
  {
   "cell_type": "code",
   "execution_count": null,
   "metadata": {},
   "outputs": [],
   "source": []
  },
  {
   "cell_type": "code",
   "execution_count": null,
   "metadata": {},
   "outputs": [],
   "source": []
  },
  {
   "cell_type": "code",
   "execution_count": null,
   "metadata": {},
   "outputs": [],
   "source": []
  },
  {
   "cell_type": "code",
   "execution_count": null,
   "metadata": {},
   "outputs": [],
   "source": []
  },
  {
   "cell_type": "code",
   "execution_count": null,
   "metadata": {},
   "outputs": [],
   "source": []
  },
  {
   "cell_type": "code",
   "execution_count": null,
   "metadata": {},
   "outputs": [],
   "source": []
  },
  {
   "cell_type": "code",
   "execution_count": null,
   "metadata": {},
   "outputs": [],
   "source": []
  },
  {
   "cell_type": "code",
   "execution_count": null,
   "metadata": {},
   "outputs": [],
   "source": []
  },
  {
   "cell_type": "code",
   "execution_count": null,
   "metadata": {},
   "outputs": [],
   "source": []
  },
  {
   "cell_type": "code",
   "execution_count": null,
   "metadata": {},
   "outputs": [],
   "source": []
  },
  {
   "cell_type": "code",
   "execution_count": null,
   "metadata": {},
   "outputs": [],
   "source": []
  },
  {
   "cell_type": "code",
   "execution_count": null,
   "metadata": {},
   "outputs": [],
   "source": []
  },
  {
   "cell_type": "code",
   "execution_count": null,
   "metadata": {},
   "outputs": [],
   "source": []
  },
  {
   "cell_type": "code",
   "execution_count": null,
   "metadata": {},
   "outputs": [],
   "source": []
  },
  {
   "cell_type": "code",
   "execution_count": null,
   "metadata": {},
   "outputs": [],
   "source": []
  },
  {
   "cell_type": "code",
   "execution_count": null,
   "metadata": {},
   "outputs": [],
   "source": []
  }
 ],
 "metadata": {
  "kernelspec": {
   "display_name": "Python 3",
   "language": "python",
   "name": "python3"
  },
  "language_info": {
   "codemirror_mode": {
    "name": "ipython",
    "version": 3
   },
   "file_extension": ".py",
   "mimetype": "text/x-python",
   "name": "python",
   "nbconvert_exporter": "python",
   "pygments_lexer": "ipython3",
   "version": "3.7.4"
  },
  "pycharm": {
   "stem_cell": {
    "cell_type": "raw",
    "source": [],
    "metadata": {
     "collapsed": false
    }
   }
  }
 },
 "nbformat": 4,
 "nbformat_minor": 2
}