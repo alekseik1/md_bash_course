{
 "cells": [
  {
   "cell_type": "markdown",
   "metadata": {},
   "source": [
    "# Задание 2\n",
    "\n",
    "\n",
    "Умножение столбца на столбец осуществляется сразу на всех ядрах в одну итерацию. В идеальном случае задержки на связь отсутствуют, поэтому имеем:\n",
    "$$\n",
    "S_p = p \\\\\n",
    "E_p = 1\n",
    "$$\n",
    "\n",
    "Этот же результат можно получить как частный случай оценки сложности умножения матрицы на вектор (см. [здесь](https://www.intuit.ru/studies/courses/1156/190/lecture/4952?page=2))."
   ]
  },
  {
   "cell_type": "code",
   "execution_count": 23,
   "metadata": {
    "pycharm": {
     "is_executing": false
    }
   },
   "outputs": [],
   "source": [
    "import pandas as pd\n",
    "import numpy as np\n",
    "import matplotlib.pyplot as plt"
   ]
  },
  {
   "cell_type": "code",
   "execution_count": 24,
   "metadata": {
    "pycharm": {
     "is_executing": false
    },
    "scrolled": true
   },
   "outputs": [
    {
     "data": {
      "text/html": [
       "<div>\n",
       "<style scoped>\n",
       "    .dataframe tbody tr th:only-of-type {\n",
       "        vertical-align: middle;\n",
       "    }\n",
       "\n",
       "    .dataframe tbody tr th {\n",
       "        vertical-align: top;\n",
       "    }\n",
       "\n",
       "    .dataframe thead th {\n",
       "        text-align: right;\n",
       "    }\n",
       "</style>\n",
       "<table border=\"1\" class=\"dataframe\">\n",
       "  <thead>\n",
       "    <tr style=\"text-align: right;\">\n",
       "      <th></th>\n",
       "      <th>n</th>\n",
       "      <th>p</th>\n",
       "      <th>time</th>\n",
       "    </tr>\n",
       "  </thead>\n",
       "  <tbody>\n",
       "    <tr>\n",
       "      <th>0</th>\n",
       "      <td>1000000</td>\n",
       "      <td>2</td>\n",
       "      <td>0.538079</td>\n",
       "    </tr>\n",
       "    <tr>\n",
       "      <th>1</th>\n",
       "      <td>5000000</td>\n",
       "      <td>2</td>\n",
       "      <td>2.591793</td>\n",
       "    </tr>\n",
       "    <tr>\n",
       "      <th>2</th>\n",
       "      <td>10000000</td>\n",
       "      <td>2</td>\n",
       "      <td>5.759475</td>\n",
       "    </tr>\n",
       "    <tr>\n",
       "      <th>3</th>\n",
       "      <td>50000000</td>\n",
       "      <td>2</td>\n",
       "      <td>26.794552</td>\n",
       "    </tr>\n",
       "    <tr>\n",
       "      <th>4</th>\n",
       "      <td>100000000</td>\n",
       "      <td>2</td>\n",
       "      <td>54.967436</td>\n",
       "    </tr>\n",
       "  </tbody>\n",
       "</table>\n",
       "</div>"
      ],
      "text/plain": [
       "           n  p       time\n",
       "0    1000000  2   0.538079\n",
       "1    5000000  2   2.591793\n",
       "2   10000000  2   5.759475\n",
       "3   50000000  2  26.794552\n",
       "4  100000000  2  54.967436"
      ]
     },
     "execution_count": 24,
     "metadata": {},
     "output_type": "execute_result"
    }
   ],
   "source": [
    "df_all = pd.read_csv('results.csv', sep=';')\n",
    "df_all.head()"
   ]
  },
  {
   "cell_type": "code",
   "execution_count": 25,
   "metadata": {},
   "outputs": [],
   "source": [
    "df_all.p -= 1"
   ]
  },
  {
   "cell_type": "code",
   "execution_count": 26,
   "metadata": {},
   "outputs": [],
   "source": [
    "#df_all.p = df_all.p.max() - df_all.p"
   ]
  },
  {
   "cell_type": "markdown",
   "metadata": {},
   "source": [
    "## Ускорение и закон Амдаля"
   ]
  },
  {
   "cell_type": "code",
   "execution_count": 27,
   "metadata": {
    "pycharm": {
     "is_executing": false
    }
   },
   "outputs": [],
   "source": [
    "for n in df_all.n.unique():\n",
    "    for p in df_all.p.unique():\n",
    "        df_all.loc[(df_all.p==p)&(df_all.n==n),'mean_time'] = df_all[(df_all.p==p)&(df_all.n==n)]['time'].mean()"
   ]
  },
  {
   "cell_type": "code",
   "execution_count": 28,
   "metadata": {},
   "outputs": [
    {
     "data": {
      "text/html": [
       "<div>\n",
       "<style scoped>\n",
       "    .dataframe tbody tr th:only-of-type {\n",
       "        vertical-align: middle;\n",
       "    }\n",
       "\n",
       "    .dataframe tbody tr th {\n",
       "        vertical-align: top;\n",
       "    }\n",
       "\n",
       "    .dataframe thead th {\n",
       "        text-align: right;\n",
       "    }\n",
       "</style>\n",
       "<table border=\"1\" class=\"dataframe\">\n",
       "  <thead>\n",
       "    <tr style=\"text-align: right;\">\n",
       "      <th></th>\n",
       "      <th>n</th>\n",
       "      <th>p</th>\n",
       "      <th>time</th>\n",
       "      <th>mean_time</th>\n",
       "    </tr>\n",
       "  </thead>\n",
       "  <tbody>\n",
       "    <tr>\n",
       "      <th>0</th>\n",
       "      <td>1000000</td>\n",
       "      <td>1</td>\n",
       "      <td>0.538079</td>\n",
       "      <td>0.525738</td>\n",
       "    </tr>\n",
       "    <tr>\n",
       "      <th>1</th>\n",
       "      <td>5000000</td>\n",
       "      <td>1</td>\n",
       "      <td>2.591793</td>\n",
       "      <td>2.731511</td>\n",
       "    </tr>\n",
       "    <tr>\n",
       "      <th>2</th>\n",
       "      <td>10000000</td>\n",
       "      <td>1</td>\n",
       "      <td>5.759475</td>\n",
       "      <td>5.690111</td>\n",
       "    </tr>\n",
       "    <tr>\n",
       "      <th>3</th>\n",
       "      <td>50000000</td>\n",
       "      <td>1</td>\n",
       "      <td>26.794552</td>\n",
       "      <td>27.657547</td>\n",
       "    </tr>\n",
       "    <tr>\n",
       "      <th>4</th>\n",
       "      <td>100000000</td>\n",
       "      <td>1</td>\n",
       "      <td>54.967436</td>\n",
       "      <td>53.374619</td>\n",
       "    </tr>\n",
       "    <tr>\n",
       "      <th>...</th>\n",
       "      <td>...</td>\n",
       "      <td>...</td>\n",
       "      <td>...</td>\n",
       "      <td>...</td>\n",
       "    </tr>\n",
       "    <tr>\n",
       "      <th>345</th>\n",
       "      <td>1000000</td>\n",
       "      <td>7</td>\n",
       "      <td>0.115712</td>\n",
       "      <td>0.124640</td>\n",
       "    </tr>\n",
       "    <tr>\n",
       "      <th>346</th>\n",
       "      <td>5000000</td>\n",
       "      <td>7</td>\n",
       "      <td>0.529197</td>\n",
       "      <td>0.548311</td>\n",
       "    </tr>\n",
       "    <tr>\n",
       "      <th>347</th>\n",
       "      <td>10000000</td>\n",
       "      <td>7</td>\n",
       "      <td>1.014836</td>\n",
       "      <td>1.080083</td>\n",
       "    </tr>\n",
       "    <tr>\n",
       "      <th>348</th>\n",
       "      <td>50000000</td>\n",
       "      <td>7</td>\n",
       "      <td>5.320115</td>\n",
       "      <td>5.285472</td>\n",
       "    </tr>\n",
       "    <tr>\n",
       "      <th>349</th>\n",
       "      <td>100000000</td>\n",
       "      <td>7</td>\n",
       "      <td>11.244198</td>\n",
       "      <td>10.997719</td>\n",
       "    </tr>\n",
       "  </tbody>\n",
       "</table>\n",
       "<p>350 rows × 4 columns</p>\n",
       "</div>"
      ],
      "text/plain": [
       "             n  p       time  mean_time\n",
       "0      1000000  1   0.538079   0.525738\n",
       "1      5000000  1   2.591793   2.731511\n",
       "2     10000000  1   5.759475   5.690111\n",
       "3     50000000  1  26.794552  27.657547\n",
       "4    100000000  1  54.967436  53.374619\n",
       "..         ... ..        ...        ...\n",
       "345    1000000  7   0.115712   0.124640\n",
       "346    5000000  7   0.529197   0.548311\n",
       "347   10000000  7   1.014836   1.080083\n",
       "348   50000000  7   5.320115   5.285472\n",
       "349  100000000  7  11.244198  10.997719\n",
       "\n",
       "[350 rows x 4 columns]"
      ]
     },
     "execution_count": 28,
     "metadata": {},
     "output_type": "execute_result"
    }
   ],
   "source": [
    "df = df_all\n",
    "df"
   ]
  },
  {
   "cell_type": "code",
   "execution_count": 29,
   "metadata": {
    "pycharm": {
     "is_executing": false
    },
    "scrolled": true
   },
   "outputs": [],
   "source": [
    "for n in df.n.unique():\n",
    "    for p in df.p.unique():\n",
    "        p_1_time = (df[(df.n==n)&(df.p==1)]['mean_time']).iloc[0]\n",
    "        own_time = df[(df.p==p)&(df.n==n)]['mean_time'].iloc[0]\n",
    "        df.loc[(df.p==p)&(df.n==n),'accel'] = p_1_time/own_time"
   ]
  },
  {
   "cell_type": "code",
   "execution_count": 30,
   "metadata": {
    "scrolled": true
   },
   "outputs": [],
   "source": [
    "df['eff'] = df['accel']/df['p']"
   ]
  },
  {
   "cell_type": "markdown",
   "metadata": {},
   "source": [
    "## Аппроксимации ускорений"
   ]
  },
  {
   "cell_type": "code",
   "execution_count": 31,
   "metadata": {},
   "outputs": [],
   "source": [
    "def amdal(p, f):\n",
    "    return 1/(f + (1-f)/p)\n",
    "def gustav(n, s):\n",
    "    return n + (1-n)*s"
   ]
  },
  {
   "cell_type": "code",
   "execution_count": 32,
   "metadata": {},
   "outputs": [],
   "source": [
    "def plot_save_graphs(x_label, y_label, fixed='p'):\n",
    "    \n",
    "    def _appr_accel(n, p):\n",
    "        # TODO: place here theoretical approximation\n",
    "        #return 6*n/(6*n/p + 6 + np.log2(p))\n",
    "        return n/n*p\n",
    "    \n",
    "    def _appr_eff(n, p):\n",
    "        return _appr_accel(n, p)/p\n",
    "    \n",
    "    def _appr_gustav(n, p, accels):\n",
    "        '''\n",
    "        if len(np.array(o).reshape(-1)) == 1:\n",
    "            n = np.array([n]*len(accels))\n",
    "        elif len(np.array(accels).reshape(-1)) == 1:\n",
    "            accels = np.array([accels]*len(n))\n",
    "        '''\n",
    "        from scipy.optimize import curve_fit\n",
    "        popt, pcov = curve_fit(gustav, n, accels)\n",
    "        return gustav(n, popt[0]).iloc[-1]*n/n\n",
    "    \n",
    "    def _appr_amdal(n, p, accels):\n",
    "        if len(np.array(p).reshape(-1)) == 1:\n",
    "            p = np.array([p]*len(accels))\n",
    "        elif len(np.array(accels).reshape(-1)) == 1:\n",
    "            accels = np.array([accels]*len(p))\n",
    "        from scipy.optimize import curve_fit\n",
    "        popt, pcov = curve_fit(amdal, p, accels)\n",
    "        return amdal(p, popt[0])\n",
    "    \n",
    "    def _routine(data, x_label, y_label, fixed_value):\n",
    "        x_data, y_data = data[x_label], data[y_label]\n",
    "        plt.scatter(x_data, y_data, label='real')\n",
    "        p, n = (fixed_value, x_data)\n",
    "        if x_label == 'p':\n",
    "            p, n = (n, p)\n",
    "        # Approximation\n",
    "        if y_label == 'accel':\n",
    "            plt.scatter(x_data, _appr_accel(n, p), color='red', label='theor')\n",
    "            if x_label == 'p':\n",
    "                plt.scatter(x_data, _appr_amdal(n, p, y_data), color='green', label='amdal')\n",
    "            else:\n",
    "                plt.scatter(x_data, _appr_gustav(n, p, y_data), color='grey', label='gustav')\n",
    "        elif y_label == 'eff':\n",
    "            plt.scatter(x_data, _appr_eff(n, p), color='red', label='theor')\n",
    "        plt.xlabel(x_label)\n",
    "        plt.ylabel(y_label)\n",
    "        plt.legend()\n",
    "        plt.title(f'{y_label}, {fixed}={fixed_value}')\n",
    "        plt.savefig(f'{y_label}_{fixed}_{fixed_value}', dpi=120)\n",
    "        plt.show()\n",
    "    if fixed == 'n':\n",
    "        for n in df.n.unique():\n",
    "            data = df[df.n==n]\n",
    "            _routine(data, x_label, y_label, n)\n",
    "    elif fixed == 'p':\n",
    "        for p in df.p.unique():\n",
    "            data = df[df.p==p]\n",
    "            _routine(data, x_label, y_label, p)\n",
    "    else:\n",
    "        raise ValueError('Not implemented')"
   ]
  },
  {
   "cell_type": "code",
   "execution_count": 33,
   "metadata": {
    "pycharm": {
     "name": "#%%\n"
    },
    "scrolled": false
   },
   "outputs": [
    {
     "data": {
      "image/png": "[encoded data removed]",
      "text/plain": [
       "<Figure size 432x288 with 1 Axes>"
      ]
     },
     "metadata": {
      "needs_background": "light"
     },
     "output_type": "display_data"
    },
    {
     "data": {
      "image/png": "[encoded data removed]",
      "text/plain": [
       "<Figure size 432x288 with 1 Axes>"
      ]
     },
     "metadata": {
      "needs_background": "light"
     },
     "output_type": "display_data"
    },
    {
     "data": {
      "image/png": "[encoded data removed]",
      "text/plain": [
       "<Figure size 432x288 with 1 Axes>"
      ]
     },
     "metadata": {
      "needs_background": "light"
     },
     "output_type": "display_data"
    },
    {
     "data": {
      "image/png": "[encoded data removed]",
      "text/plain": [
       "<Figure size 432x288 with 1 Axes>"
      ]
     },
     "metadata": {
      "needs_background": "light"
     },
     "output_type": "display_data"
    },
    {
     "data": {
      "image/png": "[encoded data removed]",
      "text/plain": [
       "<Figure size 432x288 with 1 Axes>"
      ]
     },
     "metadata": {
      "needs_background": "light"
     },
     "output_type": "display_data"
    },
    {
     "data": {
      "image/png": "[encoded data removed]",
      "text/plain": [
       "<Figure size 432x288 with 1 Axes>"
      ]
     },
     "metadata": {
      "needs_background": "light"
     },
     "output_type": "display_data"
    },
    {
     "data": {
      "image/png": "[encoded data removed]",
      "text/plain": [
       "<Figure size 432x288 with 1 Axes>"
      ]
     },
     "metadata": {
      "needs_background": "light"
     },
     "output_type": "display_data"
    },
    {
     "data": {
      "image/png": "[encoded data removed]",
      "text/plain": [
       "<Figure size 432x288 with 1 Axes>"
      ]
     },
     "metadata": {
      "needs_background": "light"
     },
     "output_type": "display_data"
    },
    {
     "data": {
      "image/png": "[encoded data removed]",
      "text/plain": [
       "<Figure size 432x288 with 1 Axes>"
      ]
     },
     "metadata": {
      "needs_background": "light"
     },
     "output_type": "display_data"
    },
    {
     "data": {
      "image/png": "[encoded data removed]",
      "text/plain": [
       "<Figure size 432x288 with 1 Axes>"
      ]
     },
     "metadata": {
      "needs_background": "light"
     },
     "output_type": "display_data"
    },
    {
     "data": {
      "image/png": "[encoded data removed]",
      "text/plain": [
       "<Figure size 432x288 with 1 Axes>"
      ]
     },
     "metadata": {
      "needs_background": "light"
     },
     "output_type": "display_data"
    },
    {
     "data": {
      "image/png": "[encoded data removed]",
      "text/plain": [
       "<Figure size 432x288 with 1 Axes>"
      ]
     },
     "metadata": {
      "needs_background": "light"
     },
     "output_type": "display_data"
    }
   ],
   "source": [
    "plot_save_graphs('p', 'accel', fixed='n')\n",
    "plot_save_graphs('n', 'accel', fixed='p')\n",
    "#plot_save_graphs('p', 'eff', fixed='n')\n",
    "#plot_save_graphs('n', 'eff', fixed='p')"
   ]
  },
  {
   "cell_type": "code",
   "execution_count": null,
   "metadata": {},
   "outputs": [],
   "source": []
  },
  {
   "cell_type": "code",
   "execution_count": null,
   "metadata": {},
   "outputs": [],
   "source": []
  },
  {
   "cell_type": "code",
   "execution_count": null,
   "metadata": {},
   "outputs": [],
   "source": []
  },
  {
   "cell_type": "code",
   "execution_count": null,
   "metadata": {},
   "outputs": [],
   "source": []
  },
  {
   "cell_type": "code",
   "execution_count": null,
   "metadata": {},
   "outputs": [],
   "source": []
  },
  {
   "cell_type": "code",
   "execution_count": null,
   "metadata": {},
   "outputs": [],
   "source": []
  },
  {
   "cell_type": "code",
   "execution_count": null,
   "metadata": {},
   "outputs": [],
   "source": []
  },
  {
   "cell_type": "code",
   "execution_count": null,
   "metadata": {},
   "outputs": [],
   "source": []
  },
  {
   "cell_type": "code",
   "execution_count": null,
   "metadata": {},
   "outputs": [],
   "source": []
  },
  {
   "cell_type": "code",
   "execution_count": null,
   "metadata": {},
   "outputs": [],
   "source": []
  },
  {
   "cell_type": "code",
   "execution_count": null,
   "metadata": {},
   "outputs": [],
   "source": []
  },
  {
   "cell_type": "code",
   "execution_count": null,
   "metadata": {},
   "outputs": [],
   "source": []
  },
  {
   "cell_type": "code",
   "execution_count": null,
   "metadata": {},
   "outputs": [],
   "source": []
  },
  {
   "cell_type": "code",
   "execution_count": null,
   "metadata": {},
   "outputs": [],
   "source": []
  },
  {
   "cell_type": "code",
   "execution_count": null,
   "metadata": {},
   "outputs": [],
   "source": []
  },
  {
   "cell_type": "code",
   "execution_count": null,
   "metadata": {},
   "outputs": [],
   "source": []
  },
  {
   "cell_type": "code",
   "execution_count": null,
   "metadata": {},
   "outputs": [],
   "source": []
  },
  {
   "cell_type": "code",
   "execution_count": null,
   "metadata": {},
   "outputs": [],
   "source": []
  },
  {
   "cell_type": "code",
   "execution_count": null,
   "metadata": {},
   "outputs": [],
   "source": []
  },
  {
   "cell_type": "code",
   "execution_count": null,
   "metadata": {},
   "outputs": [],
   "source": []
  }
 ],
 "metadata": {
  "kernelspec": {
   "display_name": "Python 3",
   "language": "python",
   "name": "python3"
  },
  "language_info": {
   "codemirror_mode": {
    "name": "ipython",
    "version": 3
   },
   "file_extension": ".py",
   "mimetype": "text/x-python",
   "name": "python",
   "nbconvert_exporter": "python",
   "pygments_lexer": "ipython3",
   "version": "3.7.4"
  },
  "pycharm": {
   "stem_cell": {
    "cell_type": "raw",
    "metadata": {
     "collapsed": false
    },
    "source": []
   }
  }
 },
 "nbformat": 4,
 "nbformat_minor": 2
}
